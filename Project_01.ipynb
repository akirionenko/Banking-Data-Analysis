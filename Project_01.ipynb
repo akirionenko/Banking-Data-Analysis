{
 "cells": [
  {
   "attachments": {},
   "cell_type": "markdown",
   "id": "d23fbce1",
   "metadata": {
    "deletable": false,
    "editable": false,
    "id": "c81daeeb"
   },
   "source": [
    "# Исследование надежности заемщиков.\n"
   ]
  },
  {
   "attachments": {},
   "cell_type": "markdown",
   "id": "a48a2fb4",
   "metadata": {},
   "source": [
    "Заказчик — кредитный отдел банка. Нужно разобраться, влияет ли семейное положение и количество детей клиента на факт погашения кредита в срок. Входные данные от банка — статистика о платёжеспособности клиентов.\n"
   ]
  },
  {
   "attachments": {},
   "cell_type": "markdown",
   "id": "f2532f3f",
   "metadata": {},
   "source": [
    "Описание данных\n",
    "\n",
    "children — количество детей в семье\\\n",
    "days_employed — общий трудовой стаж в днях\\\n",
    "dob_years — возраст клиента в годах\\\n",
    "education — уровень образования клиента\\\n",
    "education_id — идентификатор уровня образования\\\n",
    "family_status — семейное положение\\\n",
    "family_status_id — идентификатор семейного положения\\\n",
    "gender — пол клиента\\\n",
    "income_type — тип занятости\\\n",
    "debt — имел ли задолженность по возврату кредитов\\\n",
    "total_income — ежемесячный доход\\\n",
    "purpose — цель получения кредита"
   ]
  },
  {
   "cell_type": "code",
   "execution_count": 1,
   "id": "0115f8de",
   "metadata": {
    "deletable": false,
    "id": "7bcf75c9"
   },
   "outputs": [],
   "source": [
    "import pandas as pd\n",
    "\n",
    "try:\n",
    "    data = pd.read_csv('/datasets/data.csv')\n",
    "except:\n",
    "    data = pd.read_csv('https://code.s3.yandex.net/datasets/data.csv')"
   ]
  },
  {
   "cell_type": "code",
   "execution_count": 2,
   "id": "41993bb4",
   "metadata": {
    "deletable": false,
    "id": "2a7cab99",
    "outputId": "1a8f3ef2-d323-4ec2-ddf7-89670b5944c4"
   },
   "outputs": [
    {
     "data": {
      "text/html": [
       "<div>\n",
       "<style scoped>\n",
       "    .dataframe tbody tr th:only-of-type {\n",
       "        vertical-align: middle;\n",
       "    }\n",
       "\n",
       "    .dataframe tbody tr th {\n",
       "        vertical-align: top;\n",
       "    }\n",
       "\n",
       "    .dataframe thead th {\n",
       "        text-align: right;\n",
       "    }\n",
       "</style>\n",
       "<table border=\"1\" class=\"dataframe\">\n",
       "  <thead>\n",
       "    <tr style=\"text-align: right;\">\n",
       "      <th></th>\n",
       "      <th>children</th>\n",
       "      <th>days_employed</th>\n",
       "      <th>dob_years</th>\n",
       "      <th>education</th>\n",
       "      <th>education_id</th>\n",
       "      <th>family_status</th>\n",
       "      <th>family_status_id</th>\n",
       "      <th>gender</th>\n",
       "      <th>income_type</th>\n",
       "      <th>debt</th>\n",
       "      <th>total_income</th>\n",
       "      <th>purpose</th>\n",
       "    </tr>\n",
       "  </thead>\n",
       "  <tbody>\n",
       "    <tr>\n",
       "      <th>0</th>\n",
       "      <td>1</td>\n",
       "      <td>-8437.673028</td>\n",
       "      <td>42</td>\n",
       "      <td>высшее</td>\n",
       "      <td>0</td>\n",
       "      <td>женат / замужем</td>\n",
       "      <td>0</td>\n",
       "      <td>F</td>\n",
       "      <td>сотрудник</td>\n",
       "      <td>0</td>\n",
       "      <td>253875.639453</td>\n",
       "      <td>покупка жилья</td>\n",
       "    </tr>\n",
       "    <tr>\n",
       "      <th>1</th>\n",
       "      <td>1</td>\n",
       "      <td>-4024.803754</td>\n",
       "      <td>36</td>\n",
       "      <td>среднее</td>\n",
       "      <td>1</td>\n",
       "      <td>женат / замужем</td>\n",
       "      <td>0</td>\n",
       "      <td>F</td>\n",
       "      <td>сотрудник</td>\n",
       "      <td>0</td>\n",
       "      <td>112080.014102</td>\n",
       "      <td>приобретение автомобиля</td>\n",
       "    </tr>\n",
       "    <tr>\n",
       "      <th>2</th>\n",
       "      <td>0</td>\n",
       "      <td>-5623.422610</td>\n",
       "      <td>33</td>\n",
       "      <td>Среднее</td>\n",
       "      <td>1</td>\n",
       "      <td>женат / замужем</td>\n",
       "      <td>0</td>\n",
       "      <td>M</td>\n",
       "      <td>сотрудник</td>\n",
       "      <td>0</td>\n",
       "      <td>145885.952297</td>\n",
       "      <td>покупка жилья</td>\n",
       "    </tr>\n",
       "    <tr>\n",
       "      <th>3</th>\n",
       "      <td>3</td>\n",
       "      <td>-4124.747207</td>\n",
       "      <td>32</td>\n",
       "      <td>среднее</td>\n",
       "      <td>1</td>\n",
       "      <td>женат / замужем</td>\n",
       "      <td>0</td>\n",
       "      <td>M</td>\n",
       "      <td>сотрудник</td>\n",
       "      <td>0</td>\n",
       "      <td>267628.550329</td>\n",
       "      <td>дополнительное образование</td>\n",
       "    </tr>\n",
       "    <tr>\n",
       "      <th>4</th>\n",
       "      <td>0</td>\n",
       "      <td>340266.072047</td>\n",
       "      <td>53</td>\n",
       "      <td>среднее</td>\n",
       "      <td>1</td>\n",
       "      <td>гражданский брак</td>\n",
       "      <td>1</td>\n",
       "      <td>F</td>\n",
       "      <td>пенсионер</td>\n",
       "      <td>0</td>\n",
       "      <td>158616.077870</td>\n",
       "      <td>сыграть свадьбу</td>\n",
       "    </tr>\n",
       "  </tbody>\n",
       "</table>\n",
       "</div>"
      ],
      "text/plain": [
       "   children  days_employed  dob_years education  education_id  \\\n",
       "0         1   -8437.673028         42    высшее             0   \n",
       "1         1   -4024.803754         36   среднее             1   \n",
       "2         0   -5623.422610         33   Среднее             1   \n",
       "3         3   -4124.747207         32   среднее             1   \n",
       "4         0  340266.072047         53   среднее             1   \n",
       "\n",
       "      family_status  family_status_id gender income_type  debt   total_income  \\\n",
       "0   женат / замужем                 0      F   сотрудник     0  253875.639453   \n",
       "1   женат / замужем                 0      F   сотрудник     0  112080.014102   \n",
       "2   женат / замужем                 0      M   сотрудник     0  145885.952297   \n",
       "3   женат / замужем                 0      M   сотрудник     0  267628.550329   \n",
       "4  гражданский брак                 1      F   пенсионер     0  158616.077870   \n",
       "\n",
       "                      purpose  \n",
       "0               покупка жилья  \n",
       "1     приобретение автомобиля  \n",
       "2               покупка жилья  \n",
       "3  дополнительное образование  \n",
       "4             сыграть свадьбу  "
      ]
     },
     "execution_count": 2,
     "metadata": {},
     "output_type": "execute_result"
    }
   ],
   "source": [
    "data.head(5)"
   ]
  },
  {
   "cell_type": "code",
   "execution_count": 3,
   "id": "b22f4b9e",
   "metadata": {
    "deletable": false,
    "id": "2b757bca",
    "outputId": "15376089-8dad-46c9-b520-c05248d43158"
   },
   "outputs": [
    {
     "name": "stdout",
     "output_type": "stream",
     "text": [
      "<class 'pandas.core.frame.DataFrame'>\n",
      "RangeIndex: 21525 entries, 0 to 21524\n",
      "Data columns (total 12 columns):\n",
      " #   Column            Non-Null Count  Dtype  \n",
      "---  ------            --------------  -----  \n",
      " 0   children          21525 non-null  int64  \n",
      " 1   days_employed     19351 non-null  float64\n",
      " 2   dob_years         21525 non-null  int64  \n",
      " 3   education         21525 non-null  object \n",
      " 4   education_id      21525 non-null  int64  \n",
      " 5   family_status     21525 non-null  object \n",
      " 6   family_status_id  21525 non-null  int64  \n",
      " 7   gender            21525 non-null  object \n",
      " 8   income_type       21525 non-null  object \n",
      " 9   debt              21525 non-null  int64  \n",
      " 10  total_income      19351 non-null  float64\n",
      " 11  purpose           21525 non-null  object \n",
      "dtypes: float64(2), int64(5), object(5)\n",
      "memory usage: 2.0+ MB\n"
     ]
    }
   ],
   "source": [
    "data.info()"
   ]
  },
  {
   "cell_type": "markdown",
   "id": "181b9275",
   "metadata": {
    "deletable": false,
    "editable": false,
    "id": "333ec665"
   },
   "source": [
    "## Предобработка данных"
   ]
  },
  {
   "cell_type": "markdown",
   "id": "be372b4e",
   "metadata": {
    "deletable": false,
    "editable": false,
    "id": "02d92d53"
   },
   "source": [
    "### Удаление пропусков"
   ]
  },
  {
   "cell_type": "code",
   "execution_count": 4,
   "id": "3e43e0ea",
   "metadata": {
    "deletable": false,
    "id": "7f9b2309",
    "outputId": "81f4d817-781c-465c-ed15-91ce4446810d"
   },
   "outputs": [
    {
     "data": {
      "text/plain": [
       "children               0\n",
       "days_employed       2174\n",
       "dob_years              0\n",
       "education              0\n",
       "education_id           0\n",
       "family_status          0\n",
       "family_status_id       0\n",
       "gender                 0\n",
       "income_type            0\n",
       "debt                   0\n",
       "total_income        2174\n",
       "purpose                0\n",
       "dtype: int64"
      ]
     },
     "execution_count": 4,
     "metadata": {},
     "output_type": "execute_result"
    }
   ],
   "source": [
    "data.isna().sum()"
   ]
  },
  {
   "attachments": {},
   "cell_type": "markdown",
   "id": "0700f0c4",
   "metadata": {
    "deletable": false,
    "editable": false,
    "id": "db86e27b"
   },
   "source": [
    "Столбец с пропущенными значениями — `total_income` — хранит данные о доходах. На сумму дохода сильнее всего влияет тип занятости, поэтому заполним пропуски в этом столбце медианным значением по каждому типу из столбца `income_type`."
   ]
  },
  {
   "cell_type": "code",
   "execution_count": 5,
   "id": "060b358e",
   "metadata": {
    "deletable": false,
    "id": "42006a93"
   },
   "outputs": [],
   "source": [
    "for t in data['income_type'].unique():\n",
    "    data.loc[(data['income_type'] == t) & (data['total_income'].isna()), 'total_income'] = \\\n",
    "    data.loc[(data['income_type'] == t), 'total_income'].median()"
   ]
  },
  {
   "cell_type": "markdown",
   "id": "8aa5fc8a",
   "metadata": {
    "deletable": false,
    "editable": false,
    "id": "89da5ece"
   },
   "source": [
    "### Обработка аномальных значений"
   ]
  },
  {
   "attachments": {},
   "cell_type": "markdown",
   "id": "183765eb",
   "metadata": {
    "deletable": false,
    "editable": false,
    "id": "57964554"
   },
   "source": [
    "Отрицательное количество дней трудового стажа в столбце `days_employed` заменим положительными с помощью метода `abs()`."
   ]
  },
  {
   "cell_type": "code",
   "execution_count": 6,
   "id": "1fa43da5",
   "metadata": {
    "deletable": false,
    "id": "f6f055bf"
   },
   "outputs": [],
   "source": [
    "data['days_employed'] = data['days_employed'].abs()"
   ]
  },
  {
   "attachments": {},
   "cell_type": "markdown",
   "id": "6919271a",
   "metadata": {
    "deletable": false,
    "editable": false,
    "id": "6107dd2f"
   },
   "source": [
    "Выведем медианное значение трудового стажа `days_employed` в днях."
   ]
  },
  {
   "cell_type": "code",
   "execution_count": 7,
   "id": "b4ec345d",
   "metadata": {
    "deletable": false,
    "id": "85a5faf6",
    "outputId": "801ef80e-522b-4668-f34e-565af7432bcf"
   },
   "outputs": [
    {
     "data": {
      "text/plain": [
       "income_type\n",
       "безработный        366413.652744\n",
       "в декрете            3296.759962\n",
       "госслужащий          2689.368353\n",
       "компаньон            1547.382223\n",
       "пенсионер          365213.306266\n",
       "предприниматель       520.848083\n",
       "сотрудник            1574.202821\n",
       "студент               578.751554\n",
       "Name: days_employed, dtype: float64"
      ]
     },
     "execution_count": 7,
     "metadata": {},
     "output_type": "execute_result"
    }
   ],
   "source": [
    "data.groupby('income_type')['days_employed'].agg('median')"
   ]
  },
  {
   "attachments": {},
   "cell_type": "markdown",
   "id": "f0dff317",
   "metadata": {
    "deletable": false,
    "editable": false,
    "id": "38d1a030"
   },
   "source": [
    "У двух типов (безработные и пенсионеры) аномально большие значения. Исправить такие значения сложно, поэтому оставим их как есть. Этот столбец не понадобится нам для исследования."
   ]
  },
  {
   "attachments": {},
   "cell_type": "markdown",
   "id": "0d99c9a5",
   "metadata": {
    "deletable": false,
    "editable": false,
    "id": "d8a9f147"
   },
   "source": [
    "Выведем перечень уникальных значений столбца `children`."
   ]
  },
  {
   "cell_type": "code",
   "execution_count": 8,
   "id": "74154e99",
   "metadata": {
    "deletable": false,
    "id": "ef5056eb",
    "outputId": "6975b15c-7f95-4697-d16d-a0c79b657b03"
   },
   "outputs": [
    {
     "data": {
      "text/plain": [
       "array([ 1,  0,  3,  2, -1,  4, 20,  5], dtype=int64)"
      ]
     },
     "execution_count": 8,
     "metadata": {},
     "output_type": "execute_result"
    }
   ],
   "source": [
    "data['children'].unique()"
   ]
  },
  {
   "attachments": {},
   "cell_type": "markdown",
   "id": "52215933",
   "metadata": {
    "deletable": false,
    "editable": false,
    "id": "40b9ebf2"
   },
   "source": [
    "В столбце `children` есть два аномальных значения. Удалим строки, в которых встречаются такие аномальные значения из датафрейма `data`."
   ]
  },
  {
   "cell_type": "code",
   "execution_count": 9,
   "id": "7bed093f",
   "metadata": {
    "deletable": false,
    "id": "3ff9801d"
   },
   "outputs": [],
   "source": [
    "data = data[(data['children'] != -1) & (data['children'] != 20)]"
   ]
  },
  {
   "cell_type": "code",
   "execution_count": 10,
   "id": "f39fa367",
   "metadata": {
    "deletable": false,
    "id": "ad4fa8b7",
    "outputId": "b2097101-d49d-44d9-901b-32a65c9463d1"
   },
   "outputs": [
    {
     "data": {
      "text/plain": [
       "array([1, 0, 3, 2, 4, 5], dtype=int64)"
      ]
     },
     "execution_count": 10,
     "metadata": {},
     "output_type": "execute_result"
    }
   ],
   "source": [
    "data['children'].unique()"
   ]
  },
  {
   "attachments": {},
   "cell_type": "markdown",
   "id": "4898a6cd",
   "metadata": {
    "deletable": false,
    "editable": false,
    "id": "f4ea573f"
   },
   "source": [
    "Заполним пропуски в столбце `days_employed` медианными значениями по каждого типа занятости `income_type`."
   ]
  },
  {
   "cell_type": "code",
   "execution_count": 11,
   "id": "c0fade0c",
   "metadata": {
    "deletable": false,
    "id": "af6b1a7e"
   },
   "outputs": [],
   "source": [
    "for t in data['income_type'].unique():\n",
    "    data.loc[(data['income_type'] == t) & (data['days_employed'].isna()), 'days_employed'] = \\\n",
    "    data.loc[(data['income_type'] == t), 'days_employed'].median()"
   ]
  },
  {
   "attachments": {},
   "cell_type": "markdown",
   "id": "dac214a9",
   "metadata": {
    "deletable": false,
    "editable": false,
    "id": "2753f40d"
   },
   "source": [
    "Убедимся, что все пропуски заполнены."
   ]
  },
  {
   "cell_type": "code",
   "execution_count": 12,
   "id": "2a11d6ef",
   "metadata": {
    "deletable": false,
    "id": "55f78bc2",
    "outputId": "8da1e4e1-358e-4e87-98c9-f261bce0a7b2"
   },
   "outputs": [
    {
     "data": {
      "text/plain": [
       "children            0\n",
       "days_employed       0\n",
       "dob_years           0\n",
       "education           0\n",
       "education_id        0\n",
       "family_status       0\n",
       "family_status_id    0\n",
       "gender              0\n",
       "income_type         0\n",
       "debt                0\n",
       "total_income        0\n",
       "purpose             0\n",
       "dtype: int64"
      ]
     },
     "execution_count": 12,
     "metadata": {},
     "output_type": "execute_result"
    }
   ],
   "source": [
    "data.isna().sum()"
   ]
  },
  {
   "cell_type": "markdown",
   "id": "d231bfd3",
   "metadata": {
    "deletable": false,
    "editable": false,
    "id": "ddc81e43"
   },
   "source": [
    "### Изменение типов данных"
   ]
  },
  {
   "attachments": {},
   "cell_type": "markdown",
   "id": "ee69d6fc",
   "metadata": {
    "deletable": false,
    "editable": false,
    "id": "42d19d24"
   },
   "source": [
    "Заменим вещественный тип данных в столбце `total_income` на целочисленный с помощью метода `astype()`."
   ]
  },
  {
   "cell_type": "code",
   "execution_count": 13,
   "id": "a01562b7",
   "metadata": {
    "deletable": false,
    "id": "920b65ad"
   },
   "outputs": [],
   "source": [
    "data['total_income'] = data['total_income'].astype(int)"
   ]
  },
  {
   "cell_type": "markdown",
   "id": "146f755c",
   "metadata": {
    "deletable": false,
    "editable": false,
    "id": "80c420ba"
   },
   "source": [
    "### Обработка дубликатов"
   ]
  },
  {
   "attachments": {},
   "cell_type": "markdown",
   "id": "28b475f4",
   "metadata": {
    "deletable": false,
    "editable": false
   },
   "source": [
    "Обработаем неявные дубликаты в столбце `education`. В этом столбце есть одни и те же значения, но записанные по-разному: с использованием заглавных и строчных букв. Приведем их к нижнему регистру."
   ]
  },
  {
   "cell_type": "code",
   "execution_count": 14,
   "id": "9e6d9cc5",
   "metadata": {
    "deletable": false
   },
   "outputs": [],
   "source": [
    "data['education'] = data['education'].str.lower()"
   ]
  },
  {
   "attachments": {},
   "cell_type": "markdown",
   "id": "c94ed062",
   "metadata": {
    "deletable": false,
    "editable": false,
    "id": "dc587695"
   },
   "source": [
    "Выведем на экран количество строк-дубликатов в данных, удалим их."
   ]
  },
  {
   "cell_type": "code",
   "execution_count": 15,
   "id": "c7ad6773",
   "metadata": {
    "deletable": false,
    "id": "3ee445e4",
    "outputId": "9684deba-1934-42d1-99e1-cda61740f822"
   },
   "outputs": [
    {
     "data": {
      "text/plain": [
       "71"
      ]
     },
     "execution_count": 15,
     "metadata": {},
     "output_type": "execute_result"
    }
   ],
   "source": [
    "data.duplicated().sum()"
   ]
  },
  {
   "cell_type": "code",
   "execution_count": 16,
   "id": "17fc8617",
   "metadata": {
    "deletable": false,
    "id": "8575fe05"
   },
   "outputs": [],
   "source": [
    "data = data.drop_duplicates()"
   ]
  },
  {
   "cell_type": "markdown",
   "id": "948191c9",
   "metadata": {
    "deletable": false,
    "editable": false,
    "id": "9904cf55"
   },
   "source": [
    "### Категоризация данных"
   ]
  },
  {
   "attachments": {},
   "cell_type": "markdown",
   "id": "9f2359c1",
   "metadata": {
    "deletable": false,
    "editable": false,
    "id": "72fcc8a2"
   },
   "source": [
    "На основании диапазонов, указанных ниже, создадим в датафрейме `data` столбец `total_income_category` с категориями:\n",
    "\n",
    "- 0–30000 — `'E'`;\n",
    "- 30001–50000 — `'D'`;\n",
    "- 50001–200000 — `'C'`;\n",
    "- 200001–1000000 — `'B'`;\n",
    "- 1000001 и выше — `'A'`."
   ]
  },
  {
   "cell_type": "code",
   "execution_count": 17,
   "id": "44afde8b",
   "metadata": {
    "deletable": false,
    "id": "e1771346"
   },
   "outputs": [],
   "source": [
    "def categorize_income(income):\n",
    "    try:\n",
    "        if 0 <= income <= 30000:\n",
    "            return 'E'\n",
    "        elif 30001 <= income <= 50000:\n",
    "            return 'D'\n",
    "        elif 50001 <= income <= 200000:\n",
    "            return 'C'\n",
    "        elif 200001 <= income <= 1000000:\n",
    "            return 'B'\n",
    "        elif income >= 1000001:\n",
    "            return 'A'\n",
    "    except:\n",
    "        pass"
   ]
  },
  {
   "cell_type": "code",
   "execution_count": 18,
   "id": "f2a8fd0d",
   "metadata": {
    "deletable": false,
    "id": "d5f3586d"
   },
   "outputs": [],
   "source": [
    "data['total_income_category'] = data['total_income'].apply(categorize_income)"
   ]
  },
  {
   "cell_type": "code",
   "execution_count": 19,
   "id": "77037cd5",
   "metadata": {},
   "outputs": [
    {
     "data": {
      "text/html": [
       "<div>\n",
       "<style scoped>\n",
       "    .dataframe tbody tr th:only-of-type {\n",
       "        vertical-align: middle;\n",
       "    }\n",
       "\n",
       "    .dataframe tbody tr th {\n",
       "        vertical-align: top;\n",
       "    }\n",
       "\n",
       "    .dataframe thead th {\n",
       "        text-align: right;\n",
       "    }\n",
       "</style>\n",
       "<table border=\"1\" class=\"dataframe\">\n",
       "  <thead>\n",
       "    <tr style=\"text-align: right;\">\n",
       "      <th></th>\n",
       "      <th>children</th>\n",
       "      <th>days_employed</th>\n",
       "      <th>dob_years</th>\n",
       "      <th>education</th>\n",
       "      <th>education_id</th>\n",
       "      <th>family_status</th>\n",
       "      <th>family_status_id</th>\n",
       "      <th>gender</th>\n",
       "      <th>income_type</th>\n",
       "      <th>debt</th>\n",
       "      <th>total_income</th>\n",
       "      <th>purpose</th>\n",
       "      <th>total_income_category</th>\n",
       "    </tr>\n",
       "  </thead>\n",
       "  <tbody>\n",
       "    <tr>\n",
       "      <th>0</th>\n",
       "      <td>1</td>\n",
       "      <td>8437.673028</td>\n",
       "      <td>42</td>\n",
       "      <td>высшее</td>\n",
       "      <td>0</td>\n",
       "      <td>женат / замужем</td>\n",
       "      <td>0</td>\n",
       "      <td>F</td>\n",
       "      <td>сотрудник</td>\n",
       "      <td>0</td>\n",
       "      <td>253875</td>\n",
       "      <td>покупка жилья</td>\n",
       "      <td>B</td>\n",
       "    </tr>\n",
       "    <tr>\n",
       "      <th>1</th>\n",
       "      <td>1</td>\n",
       "      <td>4024.803754</td>\n",
       "      <td>36</td>\n",
       "      <td>среднее</td>\n",
       "      <td>1</td>\n",
       "      <td>женат / замужем</td>\n",
       "      <td>0</td>\n",
       "      <td>F</td>\n",
       "      <td>сотрудник</td>\n",
       "      <td>0</td>\n",
       "      <td>112080</td>\n",
       "      <td>приобретение автомобиля</td>\n",
       "      <td>C</td>\n",
       "    </tr>\n",
       "    <tr>\n",
       "      <th>2</th>\n",
       "      <td>0</td>\n",
       "      <td>5623.422610</td>\n",
       "      <td>33</td>\n",
       "      <td>среднее</td>\n",
       "      <td>1</td>\n",
       "      <td>женат / замужем</td>\n",
       "      <td>0</td>\n",
       "      <td>M</td>\n",
       "      <td>сотрудник</td>\n",
       "      <td>0</td>\n",
       "      <td>145885</td>\n",
       "      <td>покупка жилья</td>\n",
       "      <td>C</td>\n",
       "    </tr>\n",
       "    <tr>\n",
       "      <th>3</th>\n",
       "      <td>3</td>\n",
       "      <td>4124.747207</td>\n",
       "      <td>32</td>\n",
       "      <td>среднее</td>\n",
       "      <td>1</td>\n",
       "      <td>женат / замужем</td>\n",
       "      <td>0</td>\n",
       "      <td>M</td>\n",
       "      <td>сотрудник</td>\n",
       "      <td>0</td>\n",
       "      <td>267628</td>\n",
       "      <td>дополнительное образование</td>\n",
       "      <td>B</td>\n",
       "    </tr>\n",
       "    <tr>\n",
       "      <th>4</th>\n",
       "      <td>0</td>\n",
       "      <td>340266.072047</td>\n",
       "      <td>53</td>\n",
       "      <td>среднее</td>\n",
       "      <td>1</td>\n",
       "      <td>гражданский брак</td>\n",
       "      <td>1</td>\n",
       "      <td>F</td>\n",
       "      <td>пенсионер</td>\n",
       "      <td>0</td>\n",
       "      <td>158616</td>\n",
       "      <td>сыграть свадьбу</td>\n",
       "      <td>C</td>\n",
       "    </tr>\n",
       "  </tbody>\n",
       "</table>\n",
       "</div>"
      ],
      "text/plain": [
       "   children  days_employed  dob_years education  education_id  \\\n",
       "0         1    8437.673028         42    высшее             0   \n",
       "1         1    4024.803754         36   среднее             1   \n",
       "2         0    5623.422610         33   среднее             1   \n",
       "3         3    4124.747207         32   среднее             1   \n",
       "4         0  340266.072047         53   среднее             1   \n",
       "\n",
       "      family_status  family_status_id gender income_type  debt  total_income  \\\n",
       "0   женат / замужем                 0      F   сотрудник     0        253875   \n",
       "1   женат / замужем                 0      F   сотрудник     0        112080   \n",
       "2   женат / замужем                 0      M   сотрудник     0        145885   \n",
       "3   женат / замужем                 0      M   сотрудник     0        267628   \n",
       "4  гражданский брак                 1      F   пенсионер     0        158616   \n",
       "\n",
       "                      purpose total_income_category  \n",
       "0               покупка жилья                     B  \n",
       "1     приобретение автомобиля                     C  \n",
       "2               покупка жилья                     C  \n",
       "3  дополнительное образование                     B  \n",
       "4             сыграть свадьбу                     C  "
      ]
     },
     "execution_count": 19,
     "metadata": {},
     "output_type": "execute_result"
    }
   ],
   "source": [
    "data.head()"
   ]
  },
  {
   "attachments": {},
   "cell_type": "markdown",
   "id": "8f70c633",
   "metadata": {
    "deletable": false,
    "editable": false,
    "id": "dde49b5c"
   },
   "source": [
    "Выведем на экран перечень уникальных целей взятия кредита из столбца `purpose`."
   ]
  },
  {
   "cell_type": "code",
   "execution_count": 20,
   "id": "6420626e",
   "metadata": {
    "deletable": false,
    "id": "f67ce9b3",
    "outputId": "673c12d9-7d7e-4ae0-9812-c622c89dd244"
   },
   "outputs": [
    {
     "data": {
      "text/plain": [
       "array(['покупка жилья', 'приобретение автомобиля',\n",
       "       'дополнительное образование', 'сыграть свадьбу',\n",
       "       'операции с жильем', 'образование', 'на проведение свадьбы',\n",
       "       'покупка жилья для семьи', 'покупка недвижимости',\n",
       "       'покупка коммерческой недвижимости', 'покупка жилой недвижимости',\n",
       "       'строительство собственной недвижимости', 'недвижимость',\n",
       "       'строительство недвижимости', 'на покупку подержанного автомобиля',\n",
       "       'на покупку своего автомобиля',\n",
       "       'операции с коммерческой недвижимостью',\n",
       "       'строительство жилой недвижимости', 'жилье',\n",
       "       'операции со своей недвижимостью', 'автомобили',\n",
       "       'заняться образованием', 'сделка с подержанным автомобилем',\n",
       "       'получение образования', 'автомобиль', 'свадьба',\n",
       "       'получение дополнительного образования', 'покупка своего жилья',\n",
       "       'операции с недвижимостью', 'получение высшего образования',\n",
       "       'свой автомобиль', 'сделка с автомобилем',\n",
       "       'профильное образование', 'высшее образование',\n",
       "       'покупка жилья для сдачи', 'на покупку автомобиля', 'ремонт жилью',\n",
       "       'заняться высшим образованием'], dtype=object)"
      ]
     },
     "execution_count": 20,
     "metadata": {},
     "output_type": "execute_result"
    }
   ],
   "source": [
    "data['purpose'].unique()"
   ]
  },
  {
   "attachments": {},
   "cell_type": "markdown",
   "id": "393e5aa5",
   "metadata": {
    "deletable": false,
    "editable": false,
    "id": "85d0aef0"
   },
   "source": [
    "Создадим функцию, которая на основании данных из столбца `purpose` сформирует новый столбец `purpose_category`, в который войдут следующие категории:\n",
    "\n",
    "- `'операции с автомобилем'`,\n",
    "- `'операции с недвижимостью'`,\n",
    "- `'проведение свадьбы'`,\n",
    "- `'получение образования'`.\n"
   ]
  },
  {
   "cell_type": "code",
   "execution_count": 21,
   "id": "740371a0",
   "metadata": {
    "deletable": false,
    "id": "e149fab4"
   },
   "outputs": [],
   "source": [
    "def categorize_purpose(row):\n",
    "    try:\n",
    "        if 'авто' in row:\n",
    "            return 'операции с автомобилем'\n",
    "        elif 'жил' in row or 'недвиж' in row:\n",
    "            return 'операции с недвижимостью'\n",
    "        elif 'свад' in row:\n",
    "            return 'проведение свадьбы'\n",
    "        elif 'образов' in row:\n",
    "            return 'получение образования'\n",
    "    except:\n",
    "        return 'нет категории'"
   ]
  },
  {
   "cell_type": "code",
   "execution_count": 22,
   "id": "d8a09ee9",
   "metadata": {
    "deletable": false,
    "id": "bf36e69b"
   },
   "outputs": [],
   "source": [
    "data['purpose_category'] = data['purpose'].apply(categorize_purpose)"
   ]
  },
  {
   "attachments": {},
   "cell_type": "markdown",
   "id": "8fb5b076",
   "metadata": {
    "deletable": false,
    "editable": false,
    "id": "09b242bf"
   },
   "source": [
    "### Исследуем данные."
   ]
  },
  {
   "attachments": {},
   "cell_type": "markdown",
   "id": "5dc95d68",
   "metadata": {
    "deletable": false,
    "editable": false,
    "id": "c5d66278"
   },
   "source": [
    "#### Исследуем зависимость между количеством детей и возвратом кредита в срок"
   ]
  },
  {
   "cell_type": "markdown",
   "id": "c5c1e251",
   "metadata": {
    "deletable": false,
    "id": "2cacfc4a"
   },
   "source": [
    "*Построим сводную таблицу зависимости должников от количества детей, представив в отдельных столбцах количество взятых кредитов, количество и долю должников.*  "
   ]
  },
  {
   "cell_type": "code",
   "execution_count": 23,
   "id": "15cb6f2a",
   "metadata": {},
   "outputs": [
    {
     "data": {
      "text/html": [
       "<div>\n",
       "<style scoped>\n",
       "    .dataframe tbody tr th:only-of-type {\n",
       "        vertical-align: middle;\n",
       "    }\n",
       "\n",
       "    .dataframe tbody tr th {\n",
       "        vertical-align: top;\n",
       "    }\n",
       "\n",
       "    .dataframe thead tr th {\n",
       "        text-align: left;\n",
       "    }\n",
       "\n",
       "    .dataframe thead tr:last-of-type th {\n",
       "        text-align: right;\n",
       "    }\n",
       "</style>\n",
       "<table border=\"1\" class=\"dataframe\">\n",
       "  <thead>\n",
       "    <tr>\n",
       "      <th></th>\n",
       "      <th>count</th>\n",
       "      <th>sum</th>\n",
       "      <th>mean</th>\n",
       "    </tr>\n",
       "    <tr>\n",
       "      <th></th>\n",
       "      <th>debt</th>\n",
       "      <th>debt</th>\n",
       "      <th>debt</th>\n",
       "    </tr>\n",
       "    <tr>\n",
       "      <th>children</th>\n",
       "      <th></th>\n",
       "      <th></th>\n",
       "      <th></th>\n",
       "    </tr>\n",
       "  </thead>\n",
       "  <tbody>\n",
       "    <tr>\n",
       "      <th>0</th>\n",
       "      <td>14091</td>\n",
       "      <td>1063</td>\n",
       "      <td>0.075438</td>\n",
       "    </tr>\n",
       "    <tr>\n",
       "      <th>1</th>\n",
       "      <td>4808</td>\n",
       "      <td>444</td>\n",
       "      <td>0.092346</td>\n",
       "    </tr>\n",
       "    <tr>\n",
       "      <th>2</th>\n",
       "      <td>2052</td>\n",
       "      <td>194</td>\n",
       "      <td>0.094542</td>\n",
       "    </tr>\n",
       "    <tr>\n",
       "      <th>3</th>\n",
       "      <td>330</td>\n",
       "      <td>27</td>\n",
       "      <td>0.081818</td>\n",
       "    </tr>\n",
       "    <tr>\n",
       "      <th>4</th>\n",
       "      <td>41</td>\n",
       "      <td>4</td>\n",
       "      <td>0.097561</td>\n",
       "    </tr>\n",
       "    <tr>\n",
       "      <th>5</th>\n",
       "      <td>9</td>\n",
       "      <td>0</td>\n",
       "      <td>0.000000</td>\n",
       "    </tr>\n",
       "  </tbody>\n",
       "</table>\n",
       "</div>"
      ],
      "text/plain": [
       "          count   sum      mean\n",
       "           debt  debt      debt\n",
       "children                       \n",
       "0         14091  1063  0.075438\n",
       "1          4808   444  0.092346\n",
       "2          2052   194  0.094542\n",
       "3           330    27  0.081818\n",
       "4            41     4  0.097561\n",
       "5             9     0  0.000000"
      ]
     },
     "execution_count": 23,
     "metadata": {},
     "output_type": "execute_result"
    }
   ],
   "source": [
    "data.pivot_table(index='children', values='debt', aggfunc=['count','sum','mean'])"
   ]
  },
  {
   "attachments": {},
   "cell_type": "markdown",
   "id": "72179feb",
   "metadata": {},
   "source": [
    "Из таблицы видим повшение доли должников у семей с двумя детьми (0.094542) в сравнении с одним ребенком (0.092346), у семей с тремя (0.081818) доля невозврата ниже чем с одним, самый высокий невозврат у семей с четырьмя детьми (0.097561), но мало данныых (41) как и у семей с пятью детьми (9) и (0.00000)"
   ]
  },
  {
   "cell_type": "code",
   "execution_count": 24,
   "id": "5b363fb1",
   "metadata": {},
   "outputs": [
    {
     "data": {
      "text/plain": [
       "<AxesSubplot:xlabel='children'>"
      ]
     },
     "execution_count": 24,
     "metadata": {},
     "output_type": "execute_result"
    },
    {
     "data": {
      "image/png": "[encoded data removed]",
      "text/plain": [
       "<Figure size 640x480 with 1 Axes>"
      ]
     },
     "metadata": {},
     "output_type": "display_data"
    }
   ],
   "source": [
    "data.pivot_table(index='children', values='debt', aggfunc='mean').plot()"
   ]
  },
  {
   "attachments": {},
   "cell_type": "markdown",
   "id": "6f69fd9a",
   "metadata": {
    "deletable": false,
    "id": "3a6b99ec"
   },
   "source": [
    "Вывод: у клиентов без детей доля возврата кредита выше чем у семей с детьми. Зависимости возврата кредита в срок от количества детей нет (ввиду недостаточного количества, данные клиентов с пятью, четырьмя и тремя детьми не стоит учитывать). "
   ]
  },
  {
   "attachments": {},
   "cell_type": "markdown",
   "id": "580cfba0",
   "metadata": {
    "deletable": false,
    "editable": false,
    "id": "97be82ca"
   },
   "source": [
    "#### Зависимость между семейным положением и возвратом кредита в срок"
   ]
  },
  {
   "cell_type": "markdown",
   "id": "d4b11d71",
   "metadata": {
    "deletable": false,
    "id": "dc3f7ee8"
   },
   "source": [
    "*Построим сводную таблицу зависимости возврата кредита от семейного положения*"
   ]
  },
  {
   "cell_type": "code",
   "execution_count": 25,
   "id": "7c833cc8",
   "metadata": {},
   "outputs": [
    {
     "data": {
      "text/html": [
       "<div>\n",
       "<style scoped>\n",
       "    .dataframe tbody tr th:only-of-type {\n",
       "        vertical-align: middle;\n",
       "    }\n",
       "\n",
       "    .dataframe tbody tr th {\n",
       "        vertical-align: top;\n",
       "    }\n",
       "\n",
       "    .dataframe thead tr th {\n",
       "        text-align: left;\n",
       "    }\n",
       "\n",
       "    .dataframe thead tr:last-of-type th {\n",
       "        text-align: right;\n",
       "    }\n",
       "</style>\n",
       "<table border=\"1\" class=\"dataframe\">\n",
       "  <thead>\n",
       "    <tr>\n",
       "      <th></th>\n",
       "      <th>count</th>\n",
       "      <th>sum</th>\n",
       "      <th>mean</th>\n",
       "    </tr>\n",
       "    <tr>\n",
       "      <th></th>\n",
       "      <th>debt</th>\n",
       "      <th>debt</th>\n",
       "      <th>debt</th>\n",
       "    </tr>\n",
       "    <tr>\n",
       "      <th>family_status_id</th>\n",
       "      <th></th>\n",
       "      <th></th>\n",
       "      <th></th>\n",
       "    </tr>\n",
       "  </thead>\n",
       "  <tbody>\n",
       "    <tr>\n",
       "      <th>0</th>\n",
       "      <td>12261</td>\n",
       "      <td>927</td>\n",
       "      <td>0.075606</td>\n",
       "    </tr>\n",
       "    <tr>\n",
       "      <th>1</th>\n",
       "      <td>4134</td>\n",
       "      <td>385</td>\n",
       "      <td>0.093130</td>\n",
       "    </tr>\n",
       "    <tr>\n",
       "      <th>2</th>\n",
       "      <td>951</td>\n",
       "      <td>63</td>\n",
       "      <td>0.066246</td>\n",
       "    </tr>\n",
       "    <tr>\n",
       "      <th>3</th>\n",
       "      <td>1189</td>\n",
       "      <td>84</td>\n",
       "      <td>0.070648</td>\n",
       "    </tr>\n",
       "    <tr>\n",
       "      <th>4</th>\n",
       "      <td>2796</td>\n",
       "      <td>273</td>\n",
       "      <td>0.097639</td>\n",
       "    </tr>\n",
       "  </tbody>\n",
       "</table>\n",
       "</div>"
      ],
      "text/plain": [
       "                  count  sum      mean\n",
       "                   debt debt      debt\n",
       "family_status_id                      \n",
       "0                 12261  927  0.075606\n",
       "1                  4134  385  0.093130\n",
       "2                   951   63  0.066246\n",
       "3                  1189   84  0.070648\n",
       "4                  2796  273  0.097639"
      ]
     },
     "execution_count": 25,
     "metadata": {},
     "output_type": "execute_result"
    }
   ],
   "source": [
    "data.pivot_table(index='family_status_id', values='debt', aggfunc=['count','sum','mean'])"
   ]
  },
  {
   "cell_type": "markdown",
   "id": "fde01e99",
   "metadata": {},
   "source": [
    "*0 - женат / замужем,\n",
    "1 - гражданский брак,\n",
    "2 - вдовец / вдова,\n",
    "3 - в разводе,\n",
    "4 - не женат / не замужем*"
   ]
  },
  {
   "attachments": {},
   "cell_type": "markdown",
   "id": "5cd40612",
   "metadata": {},
   "source": [
    "*Построим график зависимости возврата кредита от семейного положения*"
   ]
  },
  {
   "cell_type": "code",
   "execution_count": 26,
   "id": "18c8c51d",
   "metadata": {},
   "outputs": [
    {
     "data": {
      "text/plain": [
       "<AxesSubplot:xlabel='family_status_id'>"
      ]
     },
     "execution_count": 26,
     "metadata": {},
     "output_type": "execute_result"
    },
    {
     "data": {
      "image/png": "[encoded data removed]",
      "text/plain": [
       "<Figure size 640x480 with 1 Axes>"
      ]
     },
     "metadata": {},
     "output_type": "display_data"
    }
   ],
   "source": [
    "data.pivot_table(index='family_status_id', values='debt', aggfunc='mean').plot()"
   ]
  },
  {
   "cell_type": "markdown",
   "id": "94eaa461",
   "metadata": {
    "deletable": false,
    "id": "1cef7837"
   },
   "source": [
    "**Вывод: \"вдовец / вдова\" и \"в разводе\"самые надежные клиенты, с небольшим отрывом следуют \"женат/замужем\", учтем и  преобладающую численность этой категории. Далее в порядке убывания следуют \"гражданский брак\" и \"не женат / не замужем\"** "
   ]
  },
  {
   "attachments": {},
   "cell_type": "markdown",
   "id": "56b91bb3",
   "metadata": {
    "deletable": false,
    "editable": false,
    "id": "1e8b2fca"
   },
   "source": [
    "#### Зависимость между уровнем дохода и возвратом кредита в срок."
   ]
  },
  {
   "cell_type": "markdown",
   "id": "890b08ad",
   "metadata": {},
   "source": [
    "*Построим сводную таблицу зависимости возврата кредита от уровня дохода кредитополучателя*"
   ]
  },
  {
   "cell_type": "code",
   "execution_count": 27,
   "id": "d651679d",
   "metadata": {
    "deletable": false,
    "id": "cd7e3720"
   },
   "outputs": [
    {
     "data": {
      "text/html": [
       "<div>\n",
       "<style scoped>\n",
       "    .dataframe tbody tr th:only-of-type {\n",
       "        vertical-align: middle;\n",
       "    }\n",
       "\n",
       "    .dataframe tbody tr th {\n",
       "        vertical-align: top;\n",
       "    }\n",
       "\n",
       "    .dataframe thead tr th {\n",
       "        text-align: left;\n",
       "    }\n",
       "\n",
       "    .dataframe thead tr:last-of-type th {\n",
       "        text-align: right;\n",
       "    }\n",
       "</style>\n",
       "<table border=\"1\" class=\"dataframe\">\n",
       "  <thead>\n",
       "    <tr>\n",
       "      <th></th>\n",
       "      <th>count</th>\n",
       "      <th>sum</th>\n",
       "      <th>mean</th>\n",
       "    </tr>\n",
       "    <tr>\n",
       "      <th></th>\n",
       "      <th>debt</th>\n",
       "      <th>debt</th>\n",
       "      <th>debt</th>\n",
       "    </tr>\n",
       "    <tr>\n",
       "      <th>total_income_category</th>\n",
       "      <th></th>\n",
       "      <th></th>\n",
       "      <th></th>\n",
       "    </tr>\n",
       "  </thead>\n",
       "  <tbody>\n",
       "    <tr>\n",
       "      <th>A</th>\n",
       "      <td>25</td>\n",
       "      <td>2</td>\n",
       "      <td>0.080000</td>\n",
       "    </tr>\n",
       "    <tr>\n",
       "      <th>B</th>\n",
       "      <td>5014</td>\n",
       "      <td>354</td>\n",
       "      <td>0.070602</td>\n",
       "    </tr>\n",
       "    <tr>\n",
       "      <th>C</th>\n",
       "      <td>15921</td>\n",
       "      <td>1353</td>\n",
       "      <td>0.084982</td>\n",
       "    </tr>\n",
       "    <tr>\n",
       "      <th>D</th>\n",
       "      <td>349</td>\n",
       "      <td>21</td>\n",
       "      <td>0.060172</td>\n",
       "    </tr>\n",
       "    <tr>\n",
       "      <th>E</th>\n",
       "      <td>22</td>\n",
       "      <td>2</td>\n",
       "      <td>0.090909</td>\n",
       "    </tr>\n",
       "  </tbody>\n",
       "</table>\n",
       "</div>"
      ],
      "text/plain": [
       "                       count   sum      mean\n",
       "                        debt  debt      debt\n",
       "total_income_category                       \n",
       "A                         25     2  0.080000\n",
       "B                       5014   354  0.070602\n",
       "C                      15921  1353  0.084982\n",
       "D                        349    21  0.060172\n",
       "E                         22     2  0.090909"
      ]
     },
     "execution_count": 27,
     "metadata": {},
     "output_type": "execute_result"
    }
   ],
   "source": [
    "data.pivot_table(index='total_income_category', values='debt', aggfunc=['count','sum','mean'])      "
   ]
  },
  {
   "attachments": {},
   "cell_type": "markdown",
   "id": "b971c045",
   "metadata": {},
   "source": [
    "Уровень дохода:\\\n",
    "*0–30000 — 'E';\\\n",
    "30001–50000 — 'D';\\\n",
    "50001–200000 — 'C';\\\n",
    "200001–1000000 — 'B';\\\n",
    "1000001 и выше — 'A'.*"
   ]
  },
  {
   "cell_type": "markdown",
   "id": "d8658e39",
   "metadata": {},
   "source": [
    "*Видим явное преобладание данных по количеству  заемщиков в категориях 'C' и 'B' (15921 и 5014 соответственно), в сумме три оставшихся категории 'A'+'D'+'E' составляют 1,89% от всех. Данных мало и учитывать их не будем.* "
   ]
  },
  {
   "cell_type": "markdown",
   "id": "14878bee",
   "metadata": {
    "deletable": false,
    "id": "e8593def"
   },
   "source": [
    "**Вывод: выше всех доля возврата кредита в срок у кредитополучателей с доходом категории 'B', следом идет категория 'C' с меньшим доходом но с преобладающей численностью. Видим прямую зависимость надежности заемщика от уровня дохода и возвратом кредита в срок, но категории 'A','D' и 'E' малочисленны и не позволяют сделать окончателные выводы.** "
   ]
  },
  {
   "attachments": {},
   "cell_type": "markdown",
   "id": "d35701ee",
   "metadata": {
    "deletable": false,
    "editable": false,
    "id": "99ecbd1f"
   },
   "source": [
    "#### Как разные цели кредита влияют на его возврат в срок."
   ]
  },
  {
   "cell_type": "code",
   "execution_count": 28,
   "id": "5a654bea",
   "metadata": {
    "deletable": false,
    "id": "2b687290"
   },
   "outputs": [
    {
     "data": {
      "text/html": [
       "<div>\n",
       "<style scoped>\n",
       "    .dataframe tbody tr th:only-of-type {\n",
       "        vertical-align: middle;\n",
       "    }\n",
       "\n",
       "    .dataframe tbody tr th {\n",
       "        vertical-align: top;\n",
       "    }\n",
       "\n",
       "    .dataframe thead tr th {\n",
       "        text-align: left;\n",
       "    }\n",
       "\n",
       "    .dataframe thead tr:last-of-type th {\n",
       "        text-align: right;\n",
       "    }\n",
       "</style>\n",
       "<table border=\"1\" class=\"dataframe\">\n",
       "  <thead>\n",
       "    <tr>\n",
       "      <th></th>\n",
       "      <th>count</th>\n",
       "      <th>sum</th>\n",
       "      <th>mean</th>\n",
       "    </tr>\n",
       "    <tr>\n",
       "      <th></th>\n",
       "      <th>debt</th>\n",
       "      <th>debt</th>\n",
       "      <th>debt</th>\n",
       "    </tr>\n",
       "    <tr>\n",
       "      <th>purpose_category</th>\n",
       "      <th></th>\n",
       "      <th></th>\n",
       "      <th></th>\n",
       "    </tr>\n",
       "  </thead>\n",
       "  <tbody>\n",
       "    <tr>\n",
       "      <th>операции с автомобилем</th>\n",
       "      <td>4279</td>\n",
       "      <td>400</td>\n",
       "      <td>0.093480</td>\n",
       "    </tr>\n",
       "    <tr>\n",
       "      <th>операции с недвижимостью</th>\n",
       "      <td>10751</td>\n",
       "      <td>780</td>\n",
       "      <td>0.072551</td>\n",
       "    </tr>\n",
       "    <tr>\n",
       "      <th>получение образования</th>\n",
       "      <td>3988</td>\n",
       "      <td>369</td>\n",
       "      <td>0.092528</td>\n",
       "    </tr>\n",
       "    <tr>\n",
       "      <th>проведение свадьбы</th>\n",
       "      <td>2313</td>\n",
       "      <td>183</td>\n",
       "      <td>0.079118</td>\n",
       "    </tr>\n",
       "  </tbody>\n",
       "</table>\n",
       "</div>"
      ],
      "text/plain": [
       "                          count  sum      mean\n",
       "                           debt debt      debt\n",
       "purpose_category                              \n",
       "операции с автомобилем     4279  400  0.093480\n",
       "операции с недвижимостью  10751  780  0.072551\n",
       "получение образования      3988  369  0.092528\n",
       "проведение свадьбы         2313  183  0.079118"
      ]
     },
     "execution_count": 28,
     "metadata": {},
     "output_type": "execute_result"
    }
   ],
   "source": [
    "data.pivot_table(index='purpose_category', values='debt', aggfunc=['count','sum','mean'])"
   ]
  },
  {
   "cell_type": "code",
   "execution_count": 29,
   "id": "ab7ab408",
   "metadata": {},
   "outputs": [
    {
     "data": {
      "text/plain": [
       "<AxesSubplot:xlabel='purpose_category'>"
      ]
     },
     "execution_count": 29,
     "metadata": {},
     "output_type": "execute_result"
    },
    {
     "data": {
      "image/png": "[encoded data removed]",
      "text/plain": [
       "<Figure size 640x480 with 1 Axes>"
      ]
     },
     "metadata": {},
     "output_type": "display_data"
    }
   ],
   "source": [
    "data.pivot_table(index='purpose_category', values='debt', aggfunc='mean').plot()"
   ]
  },
  {
   "attachments": {},
   "cell_type": "markdown",
   "id": "558f15ea",
   "metadata": {
    "deletable": false,
    "id": "b4bb2ce6"
   },
   "source": [
    "**Вывод: самые надежные клиенты берут кредит для операций с недвижимостью и проведение свадьбы, далее в порядке убывания следуют цели: получение образования и операции с автомобилем.** "
   ]
  },
  {
   "attachments": {},
   "cell_type": "markdown",
   "id": "777e4638",
   "metadata": {
    "deletable": false,
    "editable": false,
    "id": "6db5255a"
   },
   "source": [
    "### Общий вывод."
   ]
  },
  {
   "attachments": {},
   "cell_type": "markdown",
   "id": "387d700d",
   "metadata": {
    "deletable": false,
    "id": "bad65432"
   },
   "source": [
    "*В процессе работы исходные данные обработаны, удалены аномалии и дубликаты, пропущенные значения заполнены медианными, а вещественные значения заменены целочисленными. Созданы новае датафреймы и столбцы с категориями, сводные таблицы по зависимостям возврата кредита в срок от количества детей, семейного положения, уровня дохода и цели взятия кредита.*"
   ]
  },
  {
   "cell_type": "markdown",
   "id": "0883bfed",
   "metadata": {},
   "source": [
    "**У клиентов без детей доля возврата кредита выше чем у семей с детьми. Зависимость возврата кредита в срок от количества детей не обнаружена.\"Вдовец / вдова\" и \"в разводе\"самые надежные клиенты, с небольшим отрывом следуют \"женат/замужем\", но учтем преобладающую численность этой категории.\n",
    " Способность заемщика оплачивать кредит в срок повышается вместе с доходом, но категории 'A','D' и 'E' малочисленны и не позволяют сделать более точные выводы.**"
   ]
  }
 ],
 "metadata": {
  "ExecuteTimeLog": [
   {
    "duration": 10,
    "start_time": "2022-10-12T16:42:15.616Z"
   },
   {
    "duration": 45,
    "start_time": "2022-10-12T16:42:18.692Z"
   },
   {
    "duration": 773,
    "start_time": "2022-10-13T17:04:35.365Z"
   },
   {
    "duration": 23,
    "start_time": "2022-10-13T17:04:36.139Z"
   },
   {
    "duration": 17,
    "start_time": "2022-10-13T17:04:36.164Z"
   },
   {
    "duration": 12,
    "start_time": "2022-10-13T17:04:36.182Z"
   },
   {
    "duration": 35,
    "start_time": "2022-10-13T17:04:36.196Z"
   },
   {
    "duration": 4,
    "start_time": "2022-10-13T17:04:36.232Z"
   },
   {
    "duration": 22,
    "start_time": "2022-10-13T17:04:36.237Z"
   },
   {
    "duration": 9,
    "start_time": "2022-10-13T17:04:36.261Z"
   },
   {
    "duration": 28,
    "start_time": "2022-10-13T17:04:36.271Z"
   },
   {
    "duration": 8,
    "start_time": "2022-10-13T17:04:36.301Z"
   },
   {
    "duration": 48,
    "start_time": "2022-10-13T17:04:36.310Z"
   },
   {
    "duration": 10,
    "start_time": "2022-10-13T17:04:36.360Z"
   },
   {
    "duration": 16,
    "start_time": "2022-10-13T17:04:36.371Z"
   },
   {
    "duration": 14,
    "start_time": "2022-10-13T17:04:36.390Z"
   },
   {
    "duration": 21,
    "start_time": "2022-10-13T17:04:36.405Z"
   },
   {
    "duration": 17,
    "start_time": "2022-10-13T17:04:36.427Z"
   },
   {
    "duration": 4,
    "start_time": "2022-10-13T17:04:36.445Z"
   },
   {
    "duration": 15,
    "start_time": "2022-10-13T17:04:36.450Z"
   },
   {
    "duration": 16,
    "start_time": "2022-10-13T17:04:36.466Z"
   },
   {
    "duration": 4,
    "start_time": "2022-10-13T17:04:36.494Z"
   },
   {
    "duration": 38,
    "start_time": "2022-10-13T17:04:36.500Z"
   },
   {
    "duration": 25,
    "start_time": "2022-10-13T17:04:36.540Z"
   },
   {
    "duration": 8,
    "start_time": "2022-10-13T17:04:36.567Z"
   },
   {
    "duration": 12,
    "start_time": "2022-10-13T17:04:36.577Z"
   },
   {
    "duration": 13,
    "start_time": "2022-10-13T17:04:36.591Z"
   },
   {
    "duration": 15,
    "start_time": "2022-10-13T17:09:32.495Z"
   },
   {
    "duration": 20,
    "start_time": "2022-10-13T17:29:46.935Z"
   },
   {
    "duration": 3,
    "start_time": "2022-10-13T17:34:39.828Z"
   },
   {
    "duration": 16,
    "start_time": "2022-10-13T17:35:45.234Z"
   },
   {
    "duration": 12,
    "start_time": "2022-10-13T17:35:50.003Z"
   },
   {
    "duration": 44,
    "start_time": "2022-10-15T04:12:57.621Z"
   },
   {
    "duration": 3,
    "start_time": "2022-10-15T04:14:01.839Z"
   },
   {
    "duration": 42,
    "start_time": "2022-10-15T04:14:16.970Z"
   },
   {
    "duration": 40,
    "start_time": "2022-10-15T04:14:43.523Z"
   },
   {
    "duration": 44,
    "start_time": "2022-10-15T04:15:43.946Z"
   },
   {
    "duration": 7,
    "start_time": "2022-10-15T04:16:22.897Z"
   },
   {
    "duration": 471,
    "start_time": "2022-10-15T04:17:16.292Z"
   },
   {
    "duration": 25,
    "start_time": "2022-10-15T04:17:16.765Z"
   },
   {
    "duration": 33,
    "start_time": "2022-10-15T04:17:16.791Z"
   },
   {
    "duration": 39,
    "start_time": "2022-10-15T04:17:16.826Z"
   },
   {
    "duration": 56,
    "start_time": "2022-10-15T04:17:16.867Z"
   },
   {
    "duration": 4,
    "start_time": "2022-10-15T04:17:16.925Z"
   },
   {
    "duration": 68,
    "start_time": "2022-10-15T04:17:16.930Z"
   },
   {
    "duration": 32,
    "start_time": "2022-10-15T04:17:17.000Z"
   },
   {
    "duration": 37,
    "start_time": "2022-10-15T04:17:17.034Z"
   },
   {
    "duration": 51,
    "start_time": "2022-10-15T04:17:17.072Z"
   },
   {
    "duration": 50,
    "start_time": "2022-10-15T04:17:17.124Z"
   },
   {
    "duration": 9,
    "start_time": "2022-10-15T04:17:17.176Z"
   },
   {
    "duration": 25,
    "start_time": "2022-10-15T04:17:17.186Z"
   },
   {
    "duration": 37,
    "start_time": "2022-10-15T04:17:17.214Z"
   },
   {
    "duration": 33,
    "start_time": "2022-10-15T04:17:17.252Z"
   },
   {
    "duration": 28,
    "start_time": "2022-10-15T04:17:17.287Z"
   },
   {
    "duration": 22,
    "start_time": "2022-10-15T04:17:17.317Z"
   },
   {
    "duration": 29,
    "start_time": "2022-10-15T04:17:17.340Z"
   },
   {
    "duration": 41,
    "start_time": "2022-10-15T04:17:17.370Z"
   },
   {
    "duration": 36,
    "start_time": "2022-10-15T04:17:17.412Z"
   },
   {
    "duration": 72,
    "start_time": "2022-10-15T04:17:17.450Z"
   },
   {
    "duration": 75,
    "start_time": "2022-10-15T04:17:17.524Z"
   },
   {
    "duration": 55,
    "start_time": "2022-10-15T04:17:17.600Z"
   },
   {
    "duration": 18,
    "start_time": "2022-10-15T04:17:17.657Z"
   },
   {
    "duration": 18,
    "start_time": "2022-10-15T04:17:17.677Z"
   },
   {
    "duration": 13,
    "start_time": "2022-10-15T04:17:17.697Z"
   },
   {
    "duration": 24,
    "start_time": "2022-10-15T04:18:07.416Z"
   },
   {
    "duration": 52,
    "start_time": "2022-10-15T04:19:55.628Z"
   },
   {
    "duration": 26,
    "start_time": "2022-10-15T04:20:11.222Z"
   },
   {
    "duration": 2,
    "start_time": "2022-10-15T04:23:40.879Z"
   },
   {
    "duration": 16,
    "start_time": "2022-10-15T04:40:35.599Z"
   },
   {
    "duration": 59,
    "start_time": "2022-10-15T04:40:55.317Z"
   },
   {
    "duration": 15,
    "start_time": "2022-10-15T04:41:04.844Z"
   },
   {
    "duration": 57,
    "start_time": "2022-10-15T04:43:18.697Z"
   },
   {
    "duration": 15,
    "start_time": "2022-10-15T04:43:18.755Z"
   },
   {
    "duration": 15,
    "start_time": "2022-10-15T04:43:18.771Z"
   },
   {
    "duration": 9,
    "start_time": "2022-10-15T04:43:18.788Z"
   },
   {
    "duration": 51,
    "start_time": "2022-10-15T04:43:18.799Z"
   },
   {
    "duration": 4,
    "start_time": "2022-10-15T04:43:18.853Z"
   },
   {
    "duration": 17,
    "start_time": "2022-10-15T04:43:18.859Z"
   },
   {
    "duration": 27,
    "start_time": "2022-10-15T04:43:18.878Z"
   },
   {
    "duration": 13,
    "start_time": "2022-10-15T04:43:18.906Z"
   },
   {
    "duration": 16,
    "start_time": "2022-10-15T04:43:18.921Z"
   },
   {
    "duration": 48,
    "start_time": "2022-10-15T04:43:18.939Z"
   },
   {
    "duration": 13,
    "start_time": "2022-10-15T04:43:18.989Z"
   },
   {
    "duration": 7,
    "start_time": "2022-10-15T04:43:19.004Z"
   },
   {
    "duration": 13,
    "start_time": "2022-10-15T04:43:19.021Z"
   },
   {
    "duration": 30,
    "start_time": "2022-10-15T04:43:19.036Z"
   },
   {
    "duration": 21,
    "start_time": "2022-10-15T04:43:19.068Z"
   },
   {
    "duration": 4,
    "start_time": "2022-10-15T04:43:19.091Z"
   },
   {
    "duration": 35,
    "start_time": "2022-10-15T04:43:19.097Z"
   },
   {
    "duration": 20,
    "start_time": "2022-10-15T04:43:19.133Z"
   },
   {
    "duration": 15,
    "start_time": "2022-10-15T04:43:19.154Z"
   },
   {
    "duration": 11,
    "start_time": "2022-10-15T04:43:19.171Z"
   },
   {
    "duration": 20,
    "start_time": "2022-10-15T04:43:19.184Z"
   },
   {
    "duration": 0,
    "start_time": "2022-10-15T04:43:19.206Z"
   },
   {
    "duration": 0,
    "start_time": "2022-10-15T04:43:19.207Z"
   },
   {
    "duration": 0,
    "start_time": "2022-10-15T04:43:19.208Z"
   },
   {
    "duration": 12,
    "start_time": "2022-10-15T04:43:43.551Z"
   },
   {
    "duration": 13,
    "start_time": "2022-10-15T04:43:50.421Z"
   },
   {
    "duration": 9,
    "start_time": "2022-10-15T04:45:25.865Z"
   },
   {
    "duration": 9,
    "start_time": "2022-10-15T04:45:29.733Z"
   },
   {
    "duration": 11,
    "start_time": "2022-10-15T04:45:46.862Z"
   },
   {
    "duration": 59,
    "start_time": "2022-10-15T04:45:57.037Z"
   },
   {
    "duration": 15,
    "start_time": "2022-10-15T04:45:57.099Z"
   },
   {
    "duration": 15,
    "start_time": "2022-10-15T04:45:57.116Z"
   },
   {
    "duration": 10,
    "start_time": "2022-10-15T04:45:57.133Z"
   },
   {
    "duration": 35,
    "start_time": "2022-10-15T04:45:57.144Z"
   },
   {
    "duration": 3,
    "start_time": "2022-10-15T04:45:57.181Z"
   },
   {
    "duration": 10,
    "start_time": "2022-10-15T04:45:57.186Z"
   },
   {
    "duration": 4,
    "start_time": "2022-10-15T04:45:57.197Z"
   },
   {
    "duration": 24,
    "start_time": "2022-10-15T04:45:57.203Z"
   },
   {
    "duration": 4,
    "start_time": "2022-10-15T04:45:57.230Z"
   },
   {
    "duration": 35,
    "start_time": "2022-10-15T04:45:57.235Z"
   },
   {
    "duration": 10,
    "start_time": "2022-10-15T04:45:57.271Z"
   },
   {
    "duration": 14,
    "start_time": "2022-10-15T04:45:57.282Z"
   },
   {
    "duration": 33,
    "start_time": "2022-10-15T04:45:57.297Z"
   },
   {
    "duration": 18,
    "start_time": "2022-10-15T04:45:57.331Z"
   },
   {
    "duration": 17,
    "start_time": "2022-10-15T04:45:57.350Z"
   },
   {
    "duration": 4,
    "start_time": "2022-10-15T04:45:57.368Z"
   },
   {
    "duration": 16,
    "start_time": "2022-10-15T04:45:57.373Z"
   },
   {
    "duration": 11,
    "start_time": "2022-10-15T04:45:57.390Z"
   },
   {
    "duration": 13,
    "start_time": "2022-10-15T04:45:57.402Z"
   },
   {
    "duration": 27,
    "start_time": "2022-10-15T04:45:57.422Z"
   },
   {
    "duration": 14,
    "start_time": "2022-10-15T04:45:57.451Z"
   },
   {
    "duration": 3,
    "start_time": "2022-10-15T04:45:57.467Z"
   },
   {
    "duration": 27,
    "start_time": "2022-10-15T04:45:57.471Z"
   },
   {
    "duration": 19,
    "start_time": "2022-10-15T04:45:57.500Z"
   },
   {
    "duration": 13,
    "start_time": "2022-10-15T04:48:30.888Z"
   },
   {
    "duration": 25,
    "start_time": "2022-10-15T04:49:54.025Z"
   },
   {
    "duration": 13,
    "start_time": "2022-10-15T04:54:12.370Z"
   },
   {
    "duration": 57,
    "start_time": "2022-10-15T04:54:19.788Z"
   },
   {
    "duration": 14,
    "start_time": "2022-10-15T04:54:19.846Z"
   },
   {
    "duration": 16,
    "start_time": "2022-10-15T04:54:19.861Z"
   },
   {
    "duration": 8,
    "start_time": "2022-10-15T04:54:19.879Z"
   },
   {
    "duration": 50,
    "start_time": "2022-10-15T04:54:19.889Z"
   },
   {
    "duration": 3,
    "start_time": "2022-10-15T04:54:19.941Z"
   },
   {
    "duration": 10,
    "start_time": "2022-10-15T04:54:19.945Z"
   },
   {
    "duration": 4,
    "start_time": "2022-10-15T04:54:19.956Z"
   },
   {
    "duration": 7,
    "start_time": "2022-10-15T04:54:19.962Z"
   },
   {
    "duration": 6,
    "start_time": "2022-10-15T04:54:19.971Z"
   },
   {
    "duration": 51,
    "start_time": "2022-10-15T04:54:19.978Z"
   },
   {
    "duration": 9,
    "start_time": "2022-10-15T04:54:20.031Z"
   },
   {
    "duration": 6,
    "start_time": "2022-10-15T04:54:20.041Z"
   },
   {
    "duration": 12,
    "start_time": "2022-10-15T04:54:20.049Z"
   },
   {
    "duration": 21,
    "start_time": "2022-10-15T04:54:20.062Z"
   },
   {
    "duration": 16,
    "start_time": "2022-10-15T04:54:20.084Z"
   },
   {
    "duration": 21,
    "start_time": "2022-10-15T04:54:20.101Z"
   },
   {
    "duration": 18,
    "start_time": "2022-10-15T04:54:20.124Z"
   },
   {
    "duration": 7,
    "start_time": "2022-10-15T04:54:20.144Z"
   },
   {
    "duration": 3,
    "start_time": "2022-10-15T04:54:20.152Z"
   },
   {
    "duration": 14,
    "start_time": "2022-10-15T04:54:20.157Z"
   },
   {
    "duration": 15,
    "start_time": "2022-10-15T04:54:20.173Z"
   },
   {
    "duration": 0,
    "start_time": "2022-10-15T04:54:20.189Z"
   },
   {
    "duration": 0,
    "start_time": "2022-10-15T04:54:20.190Z"
   },
   {
    "duration": 0,
    "start_time": "2022-10-15T04:54:20.192Z"
   },
   {
    "duration": 26,
    "start_time": "2022-10-15T04:54:38.660Z"
   },
   {
    "duration": 18,
    "start_time": "2022-10-15T05:15:56.715Z"
   },
   {
    "duration": 57,
    "start_time": "2022-10-15T05:16:04.217Z"
   },
   {
    "duration": 14,
    "start_time": "2022-10-15T05:16:04.275Z"
   },
   {
    "duration": 16,
    "start_time": "2022-10-15T05:16:04.290Z"
   },
   {
    "duration": 16,
    "start_time": "2022-10-15T05:16:04.307Z"
   },
   {
    "duration": 32,
    "start_time": "2022-10-15T05:16:04.325Z"
   },
   {
    "duration": 3,
    "start_time": "2022-10-15T05:16:04.358Z"
   },
   {
    "duration": 16,
    "start_time": "2022-10-15T05:16:04.363Z"
   },
   {
    "duration": 5,
    "start_time": "2022-10-15T05:16:04.380Z"
   },
   {
    "duration": 10,
    "start_time": "2022-10-15T05:16:04.387Z"
   },
   {
    "duration": 23,
    "start_time": "2022-10-15T05:16:04.399Z"
   },
   {
    "duration": 32,
    "start_time": "2022-10-15T05:16:04.424Z"
   },
   {
    "duration": 9,
    "start_time": "2022-10-15T05:16:04.458Z"
   },
   {
    "duration": 9,
    "start_time": "2022-10-15T05:16:04.468Z"
   },
   {
    "duration": 12,
    "start_time": "2022-10-15T05:16:04.479Z"
   },
   {
    "duration": 36,
    "start_time": "2022-10-15T05:16:04.493Z"
   },
   {
    "duration": 15,
    "start_time": "2022-10-15T05:16:04.531Z"
   },
   {
    "duration": 3,
    "start_time": "2022-10-15T05:16:04.548Z"
   },
   {
    "duration": 13,
    "start_time": "2022-10-15T05:16:04.552Z"
   },
   {
    "duration": 5,
    "start_time": "2022-10-15T05:16:04.566Z"
   },
   {
    "duration": 6,
    "start_time": "2022-10-15T05:16:04.573Z"
   },
   {
    "duration": 11,
    "start_time": "2022-10-15T05:16:04.580Z"
   },
   {
    "duration": 39,
    "start_time": "2022-10-15T05:16:04.592Z"
   },
   {
    "duration": 2,
    "start_time": "2022-10-15T05:16:04.633Z"
   },
   {
    "duration": 5,
    "start_time": "2022-10-15T05:16:04.636Z"
   },
   {
    "duration": 6,
    "start_time": "2022-10-15T05:16:04.643Z"
   },
   {
    "duration": 21,
    "start_time": "2022-10-15T05:16:52.014Z"
   },
   {
    "duration": 23,
    "start_time": "2022-10-15T05:19:35.122Z"
   },
   {
    "duration": 23,
    "start_time": "2022-10-15T05:42:54.966Z"
   },
   {
    "duration": 18,
    "start_time": "2022-10-15T05:45:27.210Z"
   },
   {
    "duration": 56,
    "start_time": "2022-10-15T05:47:03.645Z"
   },
   {
    "duration": 14,
    "start_time": "2022-10-15T05:47:03.702Z"
   },
   {
    "duration": 26,
    "start_time": "2022-10-15T05:47:03.717Z"
   },
   {
    "duration": 10,
    "start_time": "2022-10-15T05:47:03.745Z"
   },
   {
    "duration": 33,
    "start_time": "2022-10-15T05:47:03.757Z"
   },
   {
    "duration": 3,
    "start_time": "2022-10-15T05:47:03.792Z"
   },
   {
    "duration": 33,
    "start_time": "2022-10-15T05:47:03.797Z"
   },
   {
    "duration": 6,
    "start_time": "2022-10-15T05:47:03.832Z"
   },
   {
    "duration": 15,
    "start_time": "2022-10-15T05:47:03.840Z"
   },
   {
    "duration": 8,
    "start_time": "2022-10-15T05:47:03.857Z"
   },
   {
    "duration": 33,
    "start_time": "2022-10-15T05:47:03.866Z"
   },
   {
    "duration": 10,
    "start_time": "2022-10-15T05:47:03.900Z"
   },
   {
    "duration": 6,
    "start_time": "2022-10-15T05:47:03.922Z"
   },
   {
    "duration": 19,
    "start_time": "2022-10-15T05:47:03.932Z"
   },
   {
    "duration": 21,
    "start_time": "2022-10-15T05:47:03.953Z"
   },
   {
    "duration": 18,
    "start_time": "2022-10-15T05:47:03.976Z"
   },
   {
    "duration": 4,
    "start_time": "2022-10-15T05:47:03.996Z"
   },
   {
    "duration": 45,
    "start_time": "2022-10-15T05:47:04.001Z"
   },
   {
    "duration": 8,
    "start_time": "2022-10-15T05:47:04.048Z"
   },
   {
    "duration": 4,
    "start_time": "2022-10-15T05:47:04.057Z"
   },
   {
    "duration": 11,
    "start_time": "2022-10-15T05:47:04.063Z"
   },
   {
    "duration": 26,
    "start_time": "2022-10-15T05:47:04.076Z"
   },
   {
    "duration": 34,
    "start_time": "2022-10-15T05:47:04.103Z"
   },
   {
    "duration": 3,
    "start_time": "2022-10-15T05:47:04.139Z"
   },
   {
    "duration": 5,
    "start_time": "2022-10-15T05:47:04.144Z"
   },
   {
    "duration": 54,
    "start_time": "2022-10-15T05:47:36.650Z"
   },
   {
    "duration": 14,
    "start_time": "2022-10-15T05:47:36.706Z"
   },
   {
    "duration": 31,
    "start_time": "2022-10-15T05:47:36.729Z"
   },
   {
    "duration": 11,
    "start_time": "2022-10-15T05:47:36.763Z"
   },
   {
    "duration": 35,
    "start_time": "2022-10-15T05:47:36.775Z"
   },
   {
    "duration": 3,
    "start_time": "2022-10-15T05:47:36.812Z"
   },
   {
    "duration": 22,
    "start_time": "2022-10-15T05:47:36.817Z"
   },
   {
    "duration": 4,
    "start_time": "2022-10-15T05:47:36.840Z"
   },
   {
    "duration": 8,
    "start_time": "2022-10-15T05:47:36.846Z"
   },
   {
    "duration": 7,
    "start_time": "2022-10-15T05:47:36.856Z"
   },
   {
    "duration": 35,
    "start_time": "2022-10-15T05:47:36.864Z"
   },
   {
    "duration": 10,
    "start_time": "2022-10-15T05:47:36.900Z"
   },
   {
    "duration": 19,
    "start_time": "2022-10-15T05:47:36.911Z"
   },
   {
    "duration": 21,
    "start_time": "2022-10-15T05:47:36.933Z"
   },
   {
    "duration": 19,
    "start_time": "2022-10-15T05:47:36.955Z"
   },
   {
    "duration": 15,
    "start_time": "2022-10-15T05:47:36.975Z"
   },
   {
    "duration": 3,
    "start_time": "2022-10-15T05:47:36.992Z"
   },
   {
    "duration": 12,
    "start_time": "2022-10-15T05:47:36.996Z"
   },
   {
    "duration": 5,
    "start_time": "2022-10-15T05:47:37.010Z"
   },
   {
    "duration": 9,
    "start_time": "2022-10-15T05:47:37.022Z"
   },
   {
    "duration": 18,
    "start_time": "2022-10-15T05:47:37.033Z"
   },
   {
    "duration": 31,
    "start_time": "2022-10-15T05:47:37.052Z"
   },
   {
    "duration": 23,
    "start_time": "2022-10-15T05:47:37.085Z"
   },
   {
    "duration": 16,
    "start_time": "2022-10-15T05:47:37.109Z"
   },
   {
    "duration": 16,
    "start_time": "2022-10-15T05:47:37.128Z"
   },
   {
    "duration": 24,
    "start_time": "2022-10-15T05:51:08.044Z"
   },
   {
    "duration": 58,
    "start_time": "2022-10-15T05:54:45.143Z"
   },
   {
    "duration": 16,
    "start_time": "2022-10-15T05:55:17.132Z"
   },
   {
    "duration": 23,
    "start_time": "2022-10-15T05:56:00.577Z"
   },
   {
    "duration": 40,
    "start_time": "2022-10-15T08:02:42.108Z"
   },
   {
    "duration": 6,
    "start_time": "2022-10-15T08:03:27.741Z"
   },
   {
    "duration": 6,
    "start_time": "2022-10-15T08:06:28.739Z"
   },
   {
    "duration": 459,
    "start_time": "2022-10-15T08:06:37.730Z"
   },
   {
    "duration": 20,
    "start_time": "2022-10-15T08:06:38.191Z"
   },
   {
    "duration": 30,
    "start_time": "2022-10-15T08:06:38.212Z"
   },
   {
    "duration": 12,
    "start_time": "2022-10-15T08:06:38.243Z"
   },
   {
    "duration": 37,
    "start_time": "2022-10-15T08:06:38.256Z"
   },
   {
    "duration": 3,
    "start_time": "2022-10-15T08:06:38.295Z"
   },
   {
    "duration": 13,
    "start_time": "2022-10-15T08:06:38.299Z"
   },
   {
    "duration": 6,
    "start_time": "2022-10-15T08:06:38.314Z"
   },
   {
    "duration": 8,
    "start_time": "2022-10-15T08:06:38.321Z"
   },
   {
    "duration": 10,
    "start_time": "2022-10-15T08:06:38.331Z"
   },
   {
    "duration": 36,
    "start_time": "2022-10-15T08:06:38.343Z"
   },
   {
    "duration": 9,
    "start_time": "2022-10-15T08:06:38.380Z"
   },
   {
    "duration": 12,
    "start_time": "2022-10-15T08:06:38.390Z"
   },
   {
    "duration": 13,
    "start_time": "2022-10-15T08:06:38.403Z"
   },
   {
    "duration": 17,
    "start_time": "2022-10-15T08:06:38.417Z"
   },
   {
    "duration": 16,
    "start_time": "2022-10-15T08:06:38.435Z"
   },
   {
    "duration": 4,
    "start_time": "2022-10-15T08:06:38.452Z"
   },
   {
    "duration": 11,
    "start_time": "2022-10-15T08:06:38.457Z"
   },
   {
    "duration": 33,
    "start_time": "2022-10-15T08:06:38.470Z"
   },
   {
    "duration": 3,
    "start_time": "2022-10-15T08:06:38.504Z"
   },
   {
    "duration": 23,
    "start_time": "2022-10-15T08:06:38.509Z"
   },
   {
    "duration": 36,
    "start_time": "2022-10-15T08:06:38.534Z"
   },
   {
    "duration": 18,
    "start_time": "2022-10-15T08:06:38.571Z"
   },
   {
    "duration": 2,
    "start_time": "2022-10-15T08:06:38.591Z"
   },
   {
    "duration": 6,
    "start_time": "2022-10-15T08:06:38.594Z"
   },
   {
    "duration": 20,
    "start_time": "2022-10-15T08:10:58.881Z"
   },
   {
    "duration": 24,
    "start_time": "2022-10-15T08:19:41.533Z"
   },
   {
    "duration": 20,
    "start_time": "2022-10-15T08:22:42.563Z"
   },
   {
    "duration": 659,
    "start_time": "2022-10-15T08:32:27.120Z"
   },
   {
    "duration": 845,
    "start_time": "2022-10-15T08:35:36.059Z"
   },
   {
    "duration": 1573,
    "start_time": "2022-10-15T08:47:14.034Z"
   },
   {
    "duration": 1011,
    "start_time": "2022-10-15T08:55:39.290Z"
   },
   {
    "duration": 21,
    "start_time": "2022-10-15T09:09:08.572Z"
   },
   {
    "duration": 747,
    "start_time": "2022-10-15T09:22:43.031Z"
   },
   {
    "duration": 707,
    "start_time": "2022-10-15T09:23:55.162Z"
   },
   {
    "duration": 53,
    "start_time": "2022-10-15T09:24:17.841Z"
   },
   {
    "duration": 13,
    "start_time": "2022-10-15T09:24:17.896Z"
   },
   {
    "duration": 20,
    "start_time": "2022-10-15T09:24:17.910Z"
   },
   {
    "duration": 8,
    "start_time": "2022-10-15T09:24:17.932Z"
   },
   {
    "duration": 40,
    "start_time": "2022-10-15T09:24:17.941Z"
   },
   {
    "duration": 3,
    "start_time": "2022-10-15T09:24:17.982Z"
   },
   {
    "duration": 21,
    "start_time": "2022-10-15T09:24:17.986Z"
   },
   {
    "duration": 36,
    "start_time": "2022-10-15T09:24:18.009Z"
   },
   {
    "duration": 10,
    "start_time": "2022-10-15T09:24:18.046Z"
   },
   {
    "duration": 4,
    "start_time": "2022-10-15T09:24:18.059Z"
   },
   {
    "duration": 31,
    "start_time": "2022-10-15T09:24:18.064Z"
   },
   {
    "duration": 9,
    "start_time": "2022-10-15T09:24:18.097Z"
   },
   {
    "duration": 11,
    "start_time": "2022-10-15T09:24:18.107Z"
   },
   {
    "duration": 11,
    "start_time": "2022-10-15T09:24:18.119Z"
   },
   {
    "duration": 23,
    "start_time": "2022-10-15T09:24:18.131Z"
   },
   {
    "duration": 17,
    "start_time": "2022-10-15T09:24:18.156Z"
   },
   {
    "duration": 4,
    "start_time": "2022-10-15T09:24:18.174Z"
   },
   {
    "duration": 25,
    "start_time": "2022-10-15T09:24:18.179Z"
   },
   {
    "duration": 9,
    "start_time": "2022-10-15T09:24:18.206Z"
   },
   {
    "duration": 5,
    "start_time": "2022-10-15T09:24:18.216Z"
   },
   {
    "duration": 12,
    "start_time": "2022-10-15T09:24:18.222Z"
   },
   {
    "duration": 25,
    "start_time": "2022-10-15T09:24:18.235Z"
   },
   {
    "duration": 18,
    "start_time": "2022-10-15T09:24:18.262Z"
   },
   {
    "duration": 840,
    "start_time": "2022-10-15T09:24:18.300Z"
   },
   {
    "duration": 0,
    "start_time": "2022-10-15T09:24:19.142Z"
   },
   {
    "duration": 0,
    "start_time": "2022-10-15T09:24:19.143Z"
   },
   {
    "duration": 21,
    "start_time": "2022-10-15T09:38:02.989Z"
   },
   {
    "duration": 708,
    "start_time": "2022-10-15T09:42:52.193Z"
   },
   {
    "duration": 22,
    "start_time": "2022-10-15T09:45:36.766Z"
   },
   {
    "duration": 772,
    "start_time": "2022-10-15T09:45:59.416Z"
   },
   {
    "duration": 54,
    "start_time": "2022-10-15T09:47:13.002Z"
   },
   {
    "duration": 14,
    "start_time": "2022-10-15T09:47:13.058Z"
   },
   {
    "duration": 14,
    "start_time": "2022-10-15T09:47:13.073Z"
   },
   {
    "duration": 9,
    "start_time": "2022-10-15T09:47:13.099Z"
   },
   {
    "duration": 36,
    "start_time": "2022-10-15T09:47:13.109Z"
   },
   {
    "duration": 3,
    "start_time": "2022-10-15T09:47:13.147Z"
   },
   {
    "duration": 12,
    "start_time": "2022-10-15T09:47:13.151Z"
   },
   {
    "duration": 12,
    "start_time": "2022-10-15T09:47:13.165Z"
   },
   {
    "duration": 13,
    "start_time": "2022-10-15T09:47:13.178Z"
   },
   {
    "duration": 8,
    "start_time": "2022-10-15T09:47:13.194Z"
   },
   {
    "duration": 35,
    "start_time": "2022-10-15T09:47:13.204Z"
   },
   {
    "duration": 10,
    "start_time": "2022-10-15T09:47:13.241Z"
   },
   {
    "duration": 8,
    "start_time": "2022-10-15T09:47:13.252Z"
   },
   {
    "duration": 15,
    "start_time": "2022-10-15T09:47:13.262Z"
   },
   {
    "duration": 27,
    "start_time": "2022-10-15T09:47:13.278Z"
   },
   {
    "duration": 18,
    "start_time": "2022-10-15T09:47:13.307Z"
   },
   {
    "duration": 4,
    "start_time": "2022-10-15T09:47:13.327Z"
   },
   {
    "duration": 13,
    "start_time": "2022-10-15T09:47:13.333Z"
   },
   {
    "duration": 7,
    "start_time": "2022-10-15T09:47:13.347Z"
   },
   {
    "duration": 5,
    "start_time": "2022-10-15T09:47:13.355Z"
   },
   {
    "duration": 38,
    "start_time": "2022-10-15T09:47:13.362Z"
   },
   {
    "duration": 25,
    "start_time": "2022-10-15T09:47:13.402Z"
   },
   {
    "duration": 24,
    "start_time": "2022-10-15T09:47:13.429Z"
   },
   {
    "duration": 3,
    "start_time": "2022-10-15T09:47:13.455Z"
   },
   {
    "duration": 9,
    "start_time": "2022-10-15T09:47:13.459Z"
   },
   {
    "duration": 25,
    "start_time": "2022-10-15T10:06:27.364Z"
   },
   {
    "duration": 21,
    "start_time": "2022-10-15T10:06:43.321Z"
   },
   {
    "duration": 667,
    "start_time": "2022-10-15T10:22:48.622Z"
   },
   {
    "duration": 723,
    "start_time": "2022-10-15T11:52:46.000Z"
   },
   {
    "duration": 33,
    "start_time": "2022-10-15T11:52:46.726Z"
   },
   {
    "duration": 20,
    "start_time": "2022-10-15T11:52:46.761Z"
   },
   {
    "duration": 20,
    "start_time": "2022-10-15T11:52:46.783Z"
   },
   {
    "duration": 47,
    "start_time": "2022-10-15T11:52:46.805Z"
   },
   {
    "duration": 5,
    "start_time": "2022-10-15T11:52:46.854Z"
   },
   {
    "duration": 22,
    "start_time": "2022-10-15T11:52:46.861Z"
   },
   {
    "duration": 5,
    "start_time": "2022-10-15T11:52:46.885Z"
   },
   {
    "duration": 14,
    "start_time": "2022-10-15T11:52:46.892Z"
   },
   {
    "duration": 6,
    "start_time": "2022-10-15T11:52:46.909Z"
   },
   {
    "duration": 35,
    "start_time": "2022-10-15T11:52:46.917Z"
   },
   {
    "duration": 10,
    "start_time": "2022-10-15T11:52:46.954Z"
   },
   {
    "duration": 4,
    "start_time": "2022-10-15T11:52:46.966Z"
   },
   {
    "duration": 12,
    "start_time": "2022-10-15T11:52:46.995Z"
   },
   {
    "duration": 36,
    "start_time": "2022-10-15T11:52:47.009Z"
   },
   {
    "duration": 27,
    "start_time": "2022-10-15T11:52:47.047Z"
   },
   {
    "duration": 4,
    "start_time": "2022-10-15T11:52:47.077Z"
   },
   {
    "duration": 15,
    "start_time": "2022-10-15T11:52:47.096Z"
   },
   {
    "duration": 11,
    "start_time": "2022-10-15T11:52:47.113Z"
   },
   {
    "duration": 7,
    "start_time": "2022-10-15T11:52:47.126Z"
   },
   {
    "duration": 17,
    "start_time": "2022-10-15T11:52:47.135Z"
   },
   {
    "duration": 65,
    "start_time": "2022-10-15T11:52:47.154Z"
   },
   {
    "duration": 22,
    "start_time": "2022-10-15T11:52:47.222Z"
   },
   {
    "duration": 1220,
    "start_time": "2022-10-15T11:52:47.246Z"
   },
   {
    "duration": 0,
    "start_time": "2022-10-15T11:52:48.468Z"
   },
   {
    "duration": 0,
    "start_time": "2022-10-15T11:52:48.469Z"
   },
   {
    "duration": 65,
    "start_time": "2022-10-15T12:01:40.634Z"
   },
   {
    "duration": 16,
    "start_time": "2022-10-15T12:01:40.701Z"
   },
   {
    "duration": 16,
    "start_time": "2022-10-15T12:01:40.719Z"
   },
   {
    "duration": 15,
    "start_time": "2022-10-15T12:01:40.737Z"
   },
   {
    "duration": 60,
    "start_time": "2022-10-15T12:01:40.753Z"
   },
   {
    "duration": 4,
    "start_time": "2022-10-15T12:01:40.815Z"
   },
   {
    "duration": 34,
    "start_time": "2022-10-15T12:01:40.821Z"
   },
   {
    "duration": 10,
    "start_time": "2022-10-15T12:01:40.856Z"
   },
   {
    "duration": 7,
    "start_time": "2022-10-15T12:01:40.868Z"
   },
   {
    "duration": 6,
    "start_time": "2022-10-15T12:01:40.879Z"
   },
   {
    "duration": 44,
    "start_time": "2022-10-15T12:01:40.886Z"
   },
   {
    "duration": 10,
    "start_time": "2022-10-15T12:01:40.931Z"
   },
   {
    "duration": 7,
    "start_time": "2022-10-15T12:01:40.942Z"
   },
   {
    "duration": 20,
    "start_time": "2022-10-15T12:01:40.952Z"
   },
   {
    "duration": 39,
    "start_time": "2022-10-15T12:01:40.974Z"
   },
   {
    "duration": 17,
    "start_time": "2022-10-15T12:01:41.015Z"
   },
   {
    "duration": 4,
    "start_time": "2022-10-15T12:01:41.033Z"
   },
   {
    "duration": 16,
    "start_time": "2022-10-15T12:01:41.039Z"
   },
   {
    "duration": 6,
    "start_time": "2022-10-15T12:01:41.057Z"
   },
   {
    "duration": 34,
    "start_time": "2022-10-15T12:01:41.065Z"
   },
   {
    "duration": 10,
    "start_time": "2022-10-15T12:01:41.100Z"
   },
   {
    "duration": 32,
    "start_time": "2022-10-15T12:01:41.112Z"
   },
   {
    "duration": 22,
    "start_time": "2022-10-15T12:01:41.146Z"
   },
   {
    "duration": 2,
    "start_time": "2022-10-15T12:01:41.169Z"
   },
   {
    "duration": 2,
    "start_time": "2022-10-15T12:01:41.196Z"
   },
   {
    "duration": 5,
    "start_time": "2022-10-15T12:01:41.200Z"
   },
   {
    "duration": 18,
    "start_time": "2022-10-15T12:07:50.622Z"
   },
   {
    "duration": 28,
    "start_time": "2022-10-15T12:10:54.914Z"
   },
   {
    "duration": 1285,
    "start_time": "2022-10-15T12:49:45.725Z"
   },
   {
    "duration": 1236,
    "start_time": "2022-10-15T12:50:08.088Z"
   },
   {
    "duration": 71,
    "start_time": "2022-10-15T12:54:16.092Z"
   },
   {
    "duration": 15,
    "start_time": "2022-10-15T12:54:16.165Z"
   },
   {
    "duration": 22,
    "start_time": "2022-10-15T12:54:16.182Z"
   },
   {
    "duration": 15,
    "start_time": "2022-10-15T12:54:16.206Z"
   },
   {
    "duration": 33,
    "start_time": "2022-10-15T12:54:16.223Z"
   },
   {
    "duration": 4,
    "start_time": "2022-10-15T12:54:16.257Z"
   },
   {
    "duration": 11,
    "start_time": "2022-10-15T12:54:16.262Z"
   },
   {
    "duration": 21,
    "start_time": "2022-10-15T12:54:16.275Z"
   },
   {
    "duration": 8,
    "start_time": "2022-10-15T12:54:16.298Z"
   },
   {
    "duration": 6,
    "start_time": "2022-10-15T12:54:16.314Z"
   },
   {
    "duration": 34,
    "start_time": "2022-10-15T12:54:16.322Z"
   },
   {
    "duration": 11,
    "start_time": "2022-10-15T12:54:16.357Z"
   },
   {
    "duration": 28,
    "start_time": "2022-10-15T12:54:16.369Z"
   },
   {
    "duration": 27,
    "start_time": "2022-10-15T12:54:16.398Z"
   },
   {
    "duration": 19,
    "start_time": "2022-10-15T12:54:16.426Z"
   },
   {
    "duration": 21,
    "start_time": "2022-10-15T12:54:16.447Z"
   },
   {
    "duration": 8,
    "start_time": "2022-10-15T12:54:16.471Z"
   },
   {
    "duration": 44,
    "start_time": "2022-10-15T12:54:16.481Z"
   },
   {
    "duration": 25,
    "start_time": "2022-10-15T12:54:16.527Z"
   },
   {
    "duration": 3,
    "start_time": "2022-10-15T12:54:16.554Z"
   },
   {
    "duration": 28,
    "start_time": "2022-10-15T12:54:16.559Z"
   },
   {
    "duration": 62,
    "start_time": "2022-10-15T12:54:16.589Z"
   },
   {
    "duration": 32,
    "start_time": "2022-10-15T12:54:16.653Z"
   },
   {
    "duration": 1342,
    "start_time": "2022-10-15T12:54:16.687Z"
   },
   {
    "duration": 0,
    "start_time": "2022-10-15T12:54:18.031Z"
   },
   {
    "duration": 0,
    "start_time": "2022-10-15T12:54:18.032Z"
   },
   {
    "duration": 0,
    "start_time": "2022-10-15T12:54:18.034Z"
   },
   {
    "duration": 4,
    "start_time": "2022-10-15T14:05:44.764Z"
   },
   {
    "duration": 4,
    "start_time": "2022-10-15T14:05:54.947Z"
   },
   {
    "duration": 4,
    "start_time": "2022-10-15T14:06:06.678Z"
   },
   {
    "duration": 68,
    "start_time": "2022-10-15T14:06:18.339Z"
   },
   {
    "duration": 15,
    "start_time": "2022-10-15T14:06:18.409Z"
   },
   {
    "duration": 20,
    "start_time": "2022-10-15T14:06:18.426Z"
   },
   {
    "duration": 8,
    "start_time": "2022-10-15T14:06:18.448Z"
   },
   {
    "duration": 45,
    "start_time": "2022-10-15T14:06:18.458Z"
   },
   {
    "duration": 4,
    "start_time": "2022-10-15T14:06:18.505Z"
   },
   {
    "duration": 11,
    "start_time": "2022-10-15T14:06:18.510Z"
   },
   {
    "duration": 4,
    "start_time": "2022-10-15T14:06:18.523Z"
   },
   {
    "duration": 8,
    "start_time": "2022-10-15T14:06:18.529Z"
   },
   {
    "duration": 5,
    "start_time": "2022-10-15T14:06:18.539Z"
   },
   {
    "duration": 64,
    "start_time": "2022-10-15T14:06:18.545Z"
   },
   {
    "duration": 10,
    "start_time": "2022-10-15T14:06:18.611Z"
   },
   {
    "duration": 3,
    "start_time": "2022-10-15T14:06:18.623Z"
   },
   {
    "duration": 13,
    "start_time": "2022-10-15T14:06:18.629Z"
   },
   {
    "duration": 22,
    "start_time": "2022-10-15T14:06:18.644Z"
   },
   {
    "duration": 37,
    "start_time": "2022-10-15T14:06:18.668Z"
   },
   {
    "duration": 4,
    "start_time": "2022-10-15T14:06:18.707Z"
   },
   {
    "duration": 13,
    "start_time": "2022-10-15T14:06:18.712Z"
   },
   {
    "duration": 10,
    "start_time": "2022-10-15T14:06:18.727Z"
   },
   {
    "duration": 3,
    "start_time": "2022-10-15T14:06:18.738Z"
   },
   {
    "duration": 11,
    "start_time": "2022-10-15T14:06:18.743Z"
   },
   {
    "duration": 48,
    "start_time": "2022-10-15T14:06:18.756Z"
   },
   {
    "duration": 3,
    "start_time": "2022-10-15T14:06:18.806Z"
   },
   {
    "duration": 0,
    "start_time": "2022-10-15T14:06:18.811Z"
   },
   {
    "duration": 0,
    "start_time": "2022-10-15T14:06:18.812Z"
   },
   {
    "duration": 0,
    "start_time": "2022-10-15T14:06:18.814Z"
   },
   {
    "duration": 0,
    "start_time": "2022-10-15T14:06:18.815Z"
   },
   {
    "duration": 4,
    "start_time": "2022-10-15T14:06:42.315Z"
   },
   {
    "duration": 76,
    "start_time": "2022-10-15T16:26:52.358Z"
   },
   {
    "duration": 15,
    "start_time": "2022-10-15T16:26:52.436Z"
   },
   {
    "duration": 17,
    "start_time": "2022-10-15T16:26:52.453Z"
   },
   {
    "duration": 10,
    "start_time": "2022-10-15T16:26:52.472Z"
   },
   {
    "duration": 45,
    "start_time": "2022-10-15T16:26:52.501Z"
   },
   {
    "duration": 4,
    "start_time": "2022-10-15T16:26:52.547Z"
   },
   {
    "duration": 12,
    "start_time": "2022-10-15T16:26:52.552Z"
   },
   {
    "duration": 19,
    "start_time": "2022-10-15T16:26:52.566Z"
   },
   {
    "duration": 33,
    "start_time": "2022-10-15T16:26:52.587Z"
   },
   {
    "duration": 6,
    "start_time": "2022-10-15T16:26:52.630Z"
   },
   {
    "duration": 36,
    "start_time": "2022-10-15T16:26:52.638Z"
   },
   {
    "duration": 9,
    "start_time": "2022-10-15T16:26:52.676Z"
   },
   {
    "duration": 5,
    "start_time": "2022-10-15T16:26:52.686Z"
   },
   {
    "duration": 43,
    "start_time": "2022-10-15T16:26:52.692Z"
   },
   {
    "duration": 21,
    "start_time": "2022-10-15T16:26:52.737Z"
   },
   {
    "duration": 26,
    "start_time": "2022-10-15T16:26:52.760Z"
   },
   {
    "duration": 4,
    "start_time": "2022-10-15T16:26:52.788Z"
   },
   {
    "duration": 50,
    "start_time": "2022-10-15T16:26:52.794Z"
   },
   {
    "duration": 6,
    "start_time": "2022-10-15T16:26:52.846Z"
   },
   {
    "duration": 15,
    "start_time": "2022-10-15T16:26:52.854Z"
   },
   {
    "duration": 13,
    "start_time": "2022-10-15T16:26:52.870Z"
   },
   {
    "duration": 35,
    "start_time": "2022-10-15T16:26:52.885Z"
   },
   {
    "duration": 19,
    "start_time": "2022-10-15T16:26:52.922Z"
   },
   {
    "duration": 12,
    "start_time": "2022-10-15T16:26:52.943Z"
   },
   {
    "duration": 18,
    "start_time": "2022-10-15T16:26:52.957Z"
   },
   {
    "duration": 5,
    "start_time": "2022-10-15T16:26:52.976Z"
   },
   {
    "duration": 8,
    "start_time": "2022-10-15T16:26:52.983Z"
   },
   {
    "duration": 4,
    "start_time": "2022-10-15T16:30:50.982Z"
   },
   {
    "duration": 26,
    "start_time": "2022-10-15T16:31:06.279Z"
   },
   {
    "duration": 5,
    "start_time": "2022-10-15T16:33:44.881Z"
   },
   {
    "duration": 7,
    "start_time": "2022-10-15T16:34:10.140Z"
   },
   {
    "duration": 9,
    "start_time": "2022-10-15T16:37:29.772Z"
   },
   {
    "duration": 12,
    "start_time": "2022-10-15T16:37:52.534Z"
   },
   {
    "duration": 13,
    "start_time": "2022-10-15T16:38:02.934Z"
   },
   {
    "duration": 9,
    "start_time": "2022-10-15T16:40:17.619Z"
   },
   {
    "duration": 9,
    "start_time": "2022-10-15T16:40:34.375Z"
   },
   {
    "duration": 8,
    "start_time": "2022-10-15T16:41:11.172Z"
   },
   {
    "duration": 11,
    "start_time": "2022-10-15T16:49:01.566Z"
   },
   {
    "duration": 8,
    "start_time": "2022-10-15T16:49:24.886Z"
   },
   {
    "duration": 11,
    "start_time": "2022-10-15T16:56:49.834Z"
   },
   {
    "duration": 104,
    "start_time": "2022-10-15T17:00:16.315Z"
   },
   {
    "duration": 104,
    "start_time": "2022-10-15T17:00:34.505Z"
   },
   {
    "duration": 8,
    "start_time": "2022-10-15T17:01:10.120Z"
   },
   {
    "duration": 8,
    "start_time": "2022-10-15T17:01:50.107Z"
   },
   {
    "duration": 9,
    "start_time": "2022-10-15T17:01:54.784Z"
   },
   {
    "duration": 77,
    "start_time": "2022-10-15T17:01:58.146Z"
   },
   {
    "duration": 21,
    "start_time": "2022-10-15T17:01:58.225Z"
   },
   {
    "duration": 19,
    "start_time": "2022-10-15T17:01:58.248Z"
   },
   {
    "duration": 27,
    "start_time": "2022-10-15T17:01:58.269Z"
   },
   {
    "duration": 39,
    "start_time": "2022-10-15T17:01:58.298Z"
   },
   {
    "duration": 5,
    "start_time": "2022-10-15T17:01:58.339Z"
   },
   {
    "duration": 12,
    "start_time": "2022-10-15T17:01:58.345Z"
   },
   {
    "duration": 7,
    "start_time": "2022-10-15T17:01:58.358Z"
   },
   {
    "duration": 34,
    "start_time": "2022-10-15T17:01:58.367Z"
   },
   {
    "duration": 16,
    "start_time": "2022-10-15T17:01:58.403Z"
   },
   {
    "duration": 46,
    "start_time": "2022-10-15T17:01:58.421Z"
   },
   {
    "duration": 11,
    "start_time": "2022-10-15T17:01:58.469Z"
   },
   {
    "duration": 4,
    "start_time": "2022-10-15T17:01:58.481Z"
   },
   {
    "duration": 15,
    "start_time": "2022-10-15T17:01:58.499Z"
   },
   {
    "duration": 21,
    "start_time": "2022-10-15T17:01:58.516Z"
   },
   {
    "duration": 19,
    "start_time": "2022-10-15T17:01:58.539Z"
   },
   {
    "duration": 3,
    "start_time": "2022-10-15T17:01:58.560Z"
   },
   {
    "duration": 33,
    "start_time": "2022-10-15T17:01:58.565Z"
   },
   {
    "duration": 21,
    "start_time": "2022-10-15T17:01:58.599Z"
   },
   {
    "duration": 5,
    "start_time": "2022-10-15T17:01:58.622Z"
   },
   {
    "duration": 14,
    "start_time": "2022-10-15T17:01:58.629Z"
   },
   {
    "duration": 42,
    "start_time": "2022-10-15T17:01:58.646Z"
   },
   {
    "duration": 16,
    "start_time": "2022-10-15T17:01:58.690Z"
   },
   {
    "duration": 0,
    "start_time": "2022-10-15T17:01:58.708Z"
   },
   {
    "duration": 0,
    "start_time": "2022-10-15T17:01:58.710Z"
   },
   {
    "duration": 0,
    "start_time": "2022-10-15T17:01:58.711Z"
   },
   {
    "duration": 0,
    "start_time": "2022-10-15T17:01:58.712Z"
   },
   {
    "duration": 0,
    "start_time": "2022-10-15T17:01:58.714Z"
   },
   {
    "duration": 0,
    "start_time": "2022-10-15T17:01:58.715Z"
   },
   {
    "duration": 7,
    "start_time": "2022-10-15T17:02:09.123Z"
   },
   {
    "duration": 10,
    "start_time": "2022-10-15T17:03:51.021Z"
   },
   {
    "duration": 4,
    "start_time": "2022-10-15T17:09:45.939Z"
   },
   {
    "duration": 22,
    "start_time": "2022-10-15T17:10:12.922Z"
   },
   {
    "duration": 624,
    "start_time": "2022-10-15T17:11:21.212Z"
   },
   {
    "duration": 907,
    "start_time": "2022-10-15T17:11:33.759Z"
   },
   {
    "duration": 15,
    "start_time": "2022-10-15T17:14:06.926Z"
   },
   {
    "duration": 13,
    "start_time": "2022-10-15T17:14:25.184Z"
   },
   {
    "duration": 694,
    "start_time": "2022-10-15T17:16:13.305Z"
   },
   {
    "duration": 634,
    "start_time": "2022-10-15T17:16:23.927Z"
   },
   {
    "duration": 12,
    "start_time": "2022-10-15T17:18:02.754Z"
   },
   {
    "duration": 9,
    "start_time": "2022-10-15T17:22:14.317Z"
   },
   {
    "duration": 107,
    "start_time": "2022-10-15T17:26:18.758Z"
   },
   {
    "duration": 69,
    "start_time": "2022-10-15T17:27:06.992Z"
   },
   {
    "duration": 12,
    "start_time": "2022-10-15T17:29:05.681Z"
   },
   {
    "duration": 8,
    "start_time": "2022-10-15T17:30:11.688Z"
   },
   {
    "duration": 8,
    "start_time": "2022-10-15T17:33:37.997Z"
   },
   {
    "duration": 64,
    "start_time": "2022-10-15T17:34:28.380Z"
   },
   {
    "duration": 7,
    "start_time": "2022-10-15T17:34:56.076Z"
   },
   {
    "duration": 9,
    "start_time": "2022-10-15T17:35:59.272Z"
   },
   {
    "duration": 873,
    "start_time": "2022-10-15T17:43:00.990Z"
   },
   {
    "duration": 861,
    "start_time": "2022-10-15T17:43:15.721Z"
   },
   {
    "duration": 14,
    "start_time": "2022-10-15T17:45:05.814Z"
   },
   {
    "duration": 68,
    "start_time": "2022-10-15T18:06:33.416Z"
   },
   {
    "duration": 15,
    "start_time": "2022-10-15T18:06:33.486Z"
   },
   {
    "duration": 20,
    "start_time": "2022-10-15T18:06:33.502Z"
   },
   {
    "duration": 9,
    "start_time": "2022-10-15T18:06:33.524Z"
   },
   {
    "duration": 39,
    "start_time": "2022-10-15T18:06:33.535Z"
   },
   {
    "duration": 3,
    "start_time": "2022-10-15T18:06:33.576Z"
   },
   {
    "duration": 10,
    "start_time": "2022-10-15T18:06:33.596Z"
   },
   {
    "duration": 5,
    "start_time": "2022-10-15T18:06:33.608Z"
   },
   {
    "duration": 27,
    "start_time": "2022-10-15T18:06:33.614Z"
   },
   {
    "duration": 5,
    "start_time": "2022-10-15T18:06:33.645Z"
   },
   {
    "duration": 46,
    "start_time": "2022-10-15T18:06:33.652Z"
   },
   {
    "duration": 10,
    "start_time": "2022-10-15T18:06:33.699Z"
   },
   {
    "duration": 6,
    "start_time": "2022-10-15T18:06:33.710Z"
   },
   {
    "duration": 13,
    "start_time": "2022-10-15T18:06:33.718Z"
   },
   {
    "duration": 19,
    "start_time": "2022-10-15T18:06:33.732Z"
   },
   {
    "duration": 17,
    "start_time": "2022-10-15T18:06:33.753Z"
   },
   {
    "duration": 23,
    "start_time": "2022-10-15T18:06:33.772Z"
   },
   {
    "duration": 13,
    "start_time": "2022-10-15T18:06:33.797Z"
   },
   {
    "duration": 6,
    "start_time": "2022-10-15T18:06:33.812Z"
   },
   {
    "duration": 4,
    "start_time": "2022-10-15T18:06:33.819Z"
   },
   {
    "duration": 12,
    "start_time": "2022-10-15T18:06:33.825Z"
   },
   {
    "duration": 84,
    "start_time": "2022-10-15T18:06:33.838Z"
   },
   {
    "duration": 3,
    "start_time": "2022-10-15T18:06:33.923Z"
   },
   {
    "duration": 6,
    "start_time": "2022-10-15T18:06:33.927Z"
   },
   {
    "duration": 71,
    "start_time": "2022-10-15T18:06:48.928Z"
   },
   {
    "duration": 15,
    "start_time": "2022-10-15T18:06:49.001Z"
   },
   {
    "duration": 17,
    "start_time": "2022-10-15T18:06:49.017Z"
   },
   {
    "duration": 9,
    "start_time": "2022-10-15T18:06:49.037Z"
   },
   {
    "duration": 59,
    "start_time": "2022-10-15T18:06:49.047Z"
   },
   {
    "duration": 4,
    "start_time": "2022-10-15T18:06:49.107Z"
   },
   {
    "duration": 12,
    "start_time": "2022-10-15T18:06:49.113Z"
   },
   {
    "duration": 3,
    "start_time": "2022-10-15T18:06:49.127Z"
   },
   {
    "duration": 7,
    "start_time": "2022-10-15T18:06:49.131Z"
   },
   {
    "duration": 4,
    "start_time": "2022-10-15T18:06:49.140Z"
   },
   {
    "duration": 57,
    "start_time": "2022-10-15T18:06:49.145Z"
   },
   {
    "duration": 9,
    "start_time": "2022-10-15T18:06:49.204Z"
   },
   {
    "duration": 4,
    "start_time": "2022-10-15T18:06:49.214Z"
   },
   {
    "duration": 16,
    "start_time": "2022-10-15T18:06:49.220Z"
   },
   {
    "duration": 22,
    "start_time": "2022-10-15T18:06:49.237Z"
   },
   {
    "duration": 41,
    "start_time": "2022-10-15T18:06:49.261Z"
   },
   {
    "duration": 4,
    "start_time": "2022-10-15T18:06:49.304Z"
   },
   {
    "duration": 12,
    "start_time": "2022-10-15T18:06:49.309Z"
   },
   {
    "duration": 5,
    "start_time": "2022-10-15T18:06:49.323Z"
   },
   {
    "duration": 5,
    "start_time": "2022-10-15T18:06:49.330Z"
   },
   {
    "duration": 11,
    "start_time": "2022-10-15T18:06:49.337Z"
   },
   {
    "duration": 47,
    "start_time": "2022-10-15T18:06:49.349Z"
   },
   {
    "duration": 2,
    "start_time": "2022-10-15T18:06:49.398Z"
   },
   {
    "duration": 5,
    "start_time": "2022-10-15T18:06:49.402Z"
   },
   {
    "duration": 13,
    "start_time": "2022-10-15T18:19:09.749Z"
   },
   {
    "duration": 15,
    "start_time": "2022-10-15T18:22:12.172Z"
   },
   {
    "duration": 15,
    "start_time": "2022-10-15T18:22:55.196Z"
   },
   {
    "duration": 18,
    "start_time": "2022-10-15T18:24:36.426Z"
   },
   {
    "duration": 24,
    "start_time": "2022-10-15T18:27:51.156Z"
   },
   {
    "duration": 25,
    "start_time": "2022-10-15T18:37:37.399Z"
   },
   {
    "duration": 64,
    "start_time": "2022-10-15T18:38:31.344Z"
   },
   {
    "duration": 14,
    "start_time": "2022-10-15T18:38:31.409Z"
   },
   {
    "duration": 16,
    "start_time": "2022-10-15T18:38:31.425Z"
   },
   {
    "duration": 10,
    "start_time": "2022-10-15T18:38:31.443Z"
   },
   {
    "duration": 55,
    "start_time": "2022-10-15T18:38:31.454Z"
   },
   {
    "duration": 3,
    "start_time": "2022-10-15T18:38:31.511Z"
   },
   {
    "duration": 10,
    "start_time": "2022-10-15T18:38:31.516Z"
   },
   {
    "duration": 5,
    "start_time": "2022-10-15T18:38:31.527Z"
   },
   {
    "duration": 8,
    "start_time": "2022-10-15T18:38:31.533Z"
   },
   {
    "duration": 5,
    "start_time": "2022-10-15T18:38:31.543Z"
   },
   {
    "duration": 58,
    "start_time": "2022-10-15T18:38:31.549Z"
   },
   {
    "duration": 10,
    "start_time": "2022-10-15T18:38:31.609Z"
   },
   {
    "duration": 9,
    "start_time": "2022-10-15T18:38:31.620Z"
   },
   {
    "duration": 12,
    "start_time": "2022-10-15T18:38:31.631Z"
   },
   {
    "duration": 18,
    "start_time": "2022-10-15T18:38:31.645Z"
   },
   {
    "duration": 30,
    "start_time": "2022-10-15T18:38:31.665Z"
   },
   {
    "duration": 3,
    "start_time": "2022-10-15T18:38:31.697Z"
   },
   {
    "duration": 13,
    "start_time": "2022-10-15T18:38:31.701Z"
   },
   {
    "duration": 9,
    "start_time": "2022-10-15T18:38:31.715Z"
   },
   {
    "duration": 4,
    "start_time": "2022-10-15T18:38:31.725Z"
   },
   {
    "duration": 13,
    "start_time": "2022-10-15T18:38:31.730Z"
   },
   {
    "duration": 24,
    "start_time": "2022-10-15T18:38:31.745Z"
   },
   {
    "duration": 44,
    "start_time": "2022-10-15T18:38:31.771Z"
   },
   {
    "duration": 28,
    "start_time": "2022-10-15T18:38:31.816Z"
   },
   {
    "duration": 2,
    "start_time": "2022-10-15T18:38:31.845Z"
   },
   {
    "duration": 67,
    "start_time": "2022-10-15T18:38:57.848Z"
   },
   {
    "duration": 14,
    "start_time": "2022-10-15T18:38:57.917Z"
   },
   {
    "duration": 16,
    "start_time": "2022-10-15T18:38:57.933Z"
   },
   {
    "duration": 9,
    "start_time": "2022-10-15T18:38:57.952Z"
   },
   {
    "duration": 54,
    "start_time": "2022-10-15T18:38:57.962Z"
   },
   {
    "duration": 4,
    "start_time": "2022-10-15T18:38:58.017Z"
   },
   {
    "duration": 14,
    "start_time": "2022-10-15T18:38:58.023Z"
   },
   {
    "duration": 5,
    "start_time": "2022-10-15T18:38:58.038Z"
   },
   {
    "duration": 8,
    "start_time": "2022-10-15T18:38:58.045Z"
   },
   {
    "duration": 4,
    "start_time": "2022-10-15T18:38:58.055Z"
   },
   {
    "duration": 58,
    "start_time": "2022-10-15T18:38:58.061Z"
   },
   {
    "duration": 9,
    "start_time": "2022-10-15T18:38:58.121Z"
   },
   {
    "duration": 7,
    "start_time": "2022-10-15T18:38:58.131Z"
   },
   {
    "duration": 11,
    "start_time": "2022-10-15T18:38:58.140Z"
   },
   {
    "duration": 17,
    "start_time": "2022-10-15T18:38:58.152Z"
   },
   {
    "duration": 37,
    "start_time": "2022-10-15T18:38:58.170Z"
   },
   {
    "duration": 3,
    "start_time": "2022-10-15T18:38:58.209Z"
   },
   {
    "duration": 11,
    "start_time": "2022-10-15T18:38:58.214Z"
   },
   {
    "duration": 5,
    "start_time": "2022-10-15T18:38:58.227Z"
   },
   {
    "duration": 4,
    "start_time": "2022-10-15T18:38:58.233Z"
   },
   {
    "duration": 10,
    "start_time": "2022-10-15T18:38:58.238Z"
   },
   {
    "duration": 49,
    "start_time": "2022-10-15T18:38:58.249Z"
   },
   {
    "duration": 24,
    "start_time": "2022-10-15T18:38:58.299Z"
   },
   {
    "duration": 25,
    "start_time": "2022-10-15T18:38:58.325Z"
   },
   {
    "duration": 2,
    "start_time": "2022-10-15T18:38:58.351Z"
   },
   {
    "duration": 70,
    "start_time": "2022-10-15T18:40:59.830Z"
   },
   {
    "duration": 16,
    "start_time": "2022-10-15T18:40:59.902Z"
   },
   {
    "duration": 16,
    "start_time": "2022-10-15T18:40:59.920Z"
   },
   {
    "duration": 9,
    "start_time": "2022-10-15T18:40:59.938Z"
   },
   {
    "duration": 54,
    "start_time": "2022-10-15T18:40:59.948Z"
   },
   {
    "duration": 3,
    "start_time": "2022-10-15T18:41:00.003Z"
   },
   {
    "duration": 29,
    "start_time": "2022-10-15T18:41:00.008Z"
   },
   {
    "duration": 12,
    "start_time": "2022-10-15T18:41:00.039Z"
   },
   {
    "duration": 12,
    "start_time": "2022-10-15T18:41:00.053Z"
   },
   {
    "duration": 16,
    "start_time": "2022-10-15T18:41:00.067Z"
   },
   {
    "duration": 48,
    "start_time": "2022-10-15T18:41:00.085Z"
   },
   {
    "duration": 17,
    "start_time": "2022-10-15T18:41:00.135Z"
   },
   {
    "duration": 21,
    "start_time": "2022-10-15T18:41:00.154Z"
   },
   {
    "duration": 39,
    "start_time": "2022-10-15T18:41:00.177Z"
   },
   {
    "duration": 50,
    "start_time": "2022-10-15T18:41:00.218Z"
   },
   {
    "duration": 25,
    "start_time": "2022-10-15T18:41:00.269Z"
   },
   {
    "duration": 5,
    "start_time": "2022-10-15T18:41:00.296Z"
   },
   {
    "duration": 55,
    "start_time": "2022-10-15T18:41:00.302Z"
   },
   {
    "duration": 26,
    "start_time": "2022-10-15T18:41:00.359Z"
   },
   {
    "duration": 29,
    "start_time": "2022-10-15T18:41:00.387Z"
   },
   {
    "duration": 29,
    "start_time": "2022-10-15T18:41:00.418Z"
   },
   {
    "duration": 38,
    "start_time": "2022-10-15T18:41:00.448Z"
   },
   {
    "duration": 35,
    "start_time": "2022-10-15T18:41:00.488Z"
   },
   {
    "duration": 49,
    "start_time": "2022-10-15T18:41:00.525Z"
   },
   {
    "duration": 6,
    "start_time": "2022-10-15T18:41:00.576Z"
   },
   {
    "duration": 16,
    "start_time": "2022-10-15T18:52:55.674Z"
   },
   {
    "duration": 31,
    "start_time": "2022-10-15T19:02:32.273Z"
   },
   {
    "duration": 81,
    "start_time": "2022-10-15T19:28:29.281Z"
   },
   {
    "duration": 16,
    "start_time": "2022-10-15T19:28:29.364Z"
   },
   {
    "duration": 14,
    "start_time": "2022-10-15T19:28:29.382Z"
   },
   {
    "duration": 9,
    "start_time": "2022-10-15T19:28:29.398Z"
   },
   {
    "duration": 50,
    "start_time": "2022-10-15T19:28:29.409Z"
   },
   {
    "duration": 6,
    "start_time": "2022-10-15T19:28:29.462Z"
   },
   {
    "duration": 37,
    "start_time": "2022-10-15T19:28:29.470Z"
   },
   {
    "duration": 6,
    "start_time": "2022-10-15T19:28:29.508Z"
   },
   {
    "duration": 8,
    "start_time": "2022-10-15T19:28:29.515Z"
   },
   {
    "duration": 4,
    "start_time": "2022-10-15T19:28:29.526Z"
   },
   {
    "duration": 35,
    "start_time": "2022-10-15T19:28:29.531Z"
   },
   {
    "duration": 33,
    "start_time": "2022-10-15T19:28:29.568Z"
   },
   {
    "duration": 14,
    "start_time": "2022-10-15T19:28:29.603Z"
   },
   {
    "duration": 12,
    "start_time": "2022-10-15T19:28:29.619Z"
   },
   {
    "duration": 19,
    "start_time": "2022-10-15T19:28:29.633Z"
   },
   {
    "duration": 23,
    "start_time": "2022-10-15T19:28:29.654Z"
   },
   {
    "duration": 18,
    "start_time": "2022-10-15T19:28:29.678Z"
   },
   {
    "duration": 12,
    "start_time": "2022-10-15T19:28:29.698Z"
   },
   {
    "duration": 18,
    "start_time": "2022-10-15T19:28:29.712Z"
   },
   {
    "duration": 10,
    "start_time": "2022-10-15T19:28:29.732Z"
   },
   {
    "duration": 4,
    "start_time": "2022-10-15T19:28:29.744Z"
   },
   {
    "duration": 19,
    "start_time": "2022-10-15T19:28:29.750Z"
   },
   {
    "duration": 58,
    "start_time": "2022-10-15T19:28:29.771Z"
   },
   {
    "duration": 23,
    "start_time": "2022-10-15T19:28:29.831Z"
   },
   {
    "duration": 55,
    "start_time": "2022-10-15T19:28:29.856Z"
   },
   {
    "duration": 31,
    "start_time": "2022-10-15T19:28:29.912Z"
   },
   {
    "duration": 963,
    "start_time": "2022-10-15T19:35:34.058Z"
   },
   {
    "duration": 143,
    "start_time": "2022-10-15T19:36:43.015Z"
   },
   {
    "duration": 247,
    "start_time": "2022-10-15T19:41:43.008Z"
   },
   {
    "duration": 180,
    "start_time": "2022-10-15T19:42:10.144Z"
   },
   {
    "duration": 138,
    "start_time": "2022-10-15T19:43:14.857Z"
   },
   {
    "duration": 154,
    "start_time": "2022-10-15T19:44:01.712Z"
   },
   {
    "duration": 70,
    "start_time": "2022-10-15T20:05:35.920Z"
   },
   {
    "duration": 15,
    "start_time": "2022-10-15T20:05:35.992Z"
   },
   {
    "duration": 19,
    "start_time": "2022-10-15T20:05:36.009Z"
   },
   {
    "duration": 10,
    "start_time": "2022-10-15T20:05:36.030Z"
   },
   {
    "duration": 33,
    "start_time": "2022-10-15T20:05:36.041Z"
   },
   {
    "duration": 21,
    "start_time": "2022-10-15T20:05:36.075Z"
   },
   {
    "duration": 13,
    "start_time": "2022-10-15T20:05:36.098Z"
   },
   {
    "duration": 5,
    "start_time": "2022-10-15T20:05:36.113Z"
   },
   {
    "duration": 6,
    "start_time": "2022-10-15T20:05:36.120Z"
   },
   {
    "duration": 4,
    "start_time": "2022-10-15T20:05:36.130Z"
   },
   {
    "duration": 65,
    "start_time": "2022-10-15T20:05:36.136Z"
   },
   {
    "duration": 8,
    "start_time": "2022-10-15T20:05:36.203Z"
   },
   {
    "duration": 7,
    "start_time": "2022-10-15T20:05:36.213Z"
   },
   {
    "duration": 14,
    "start_time": "2022-10-15T20:05:36.221Z"
   },
   {
    "duration": 23,
    "start_time": "2022-10-15T20:05:36.236Z"
   },
   {
    "duration": 16,
    "start_time": "2022-10-15T20:05:36.260Z"
   },
   {
    "duration": 3,
    "start_time": "2022-10-15T20:05:36.296Z"
   },
   {
    "duration": 16,
    "start_time": "2022-10-15T20:05:36.301Z"
   },
   {
    "duration": 17,
    "start_time": "2022-10-15T20:05:36.318Z"
   },
   {
    "duration": 11,
    "start_time": "2022-10-15T20:05:36.336Z"
   },
   {
    "duration": 5,
    "start_time": "2022-10-15T20:05:36.349Z"
   },
   {
    "duration": 13,
    "start_time": "2022-10-15T20:05:36.355Z"
   },
   {
    "duration": 41,
    "start_time": "2022-10-15T20:05:36.369Z"
   },
   {
    "duration": 133,
    "start_time": "2022-10-15T20:05:36.412Z"
   },
   {
    "duration": 29,
    "start_time": "2022-10-15T20:05:36.547Z"
   },
   {
    "duration": 206,
    "start_time": "2022-10-15T20:05:36.578Z"
   },
   {
    "duration": 32,
    "start_time": "2022-10-15T20:05:36.786Z"
   },
   {
    "duration": 157,
    "start_time": "2022-10-15T20:05:36.822Z"
   },
   {
    "duration": 38,
    "start_time": "2022-10-15T20:05:36.981Z"
   },
   {
    "duration": 136,
    "start_time": "2022-10-15T20:05:37.020Z"
   },
   {
    "duration": 101,
    "start_time": "2022-10-16T13:07:17.536Z"
   }
  ],
  "colab": {
   "name": "dpp_template_part2.ipynb",
   "provenance": []
  },
  "kernelspec": {
   "display_name": "da_practicum_env2",
   "language": "python",
   "name": "python3"
  },
  "language_info": {
   "codemirror_mode": {
    "name": "ipython",
    "version": 3
   },
   "file_extension": ".py",
   "mimetype": "text/x-python",
   "name": "python",
   "nbconvert_exporter": "python",
   "pygments_lexer": "ipython3",
   "version": "3.9.13"
  },
  "toc": {
   "base_numbering": 1,
   "nav_menu": {},
   "number_sections": true,
   "sideBar": true,
   "skip_h1_title": true,
   "title_cell": "Table of Contents",
   "title_sidebar": "Contents",
   "toc_cell": false,
   "toc_position": {},
   "toc_section_display": true,
   "toc_window_display": false
  },
  "vscode": {
   "interpreter": {
    "hash": "e3032394db83c2c494a476c5588f4da7a4c8a370c24750e5ed45e62c348e99d6"
   }
  }
 },
 "nbformat": 4,
 "nbformat_minor": 5
}
